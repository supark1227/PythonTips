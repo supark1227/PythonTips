{
 "cells": [
  {
   "cell_type": "markdown",
   "metadata": {},
   "source": [
    "## [파이썬기초] 문자열 포맷팅\n",
    "내 키와 몸무게를 이용하여 나의 비만도를 구한 후 출력하는 프로그램을 짠다고 합시다. <br>\n",
    "대략 아래와 같이 짤 수 있습니다. <br>\n",
    "계산방법은 아래 링크를 참조 <br>\n",
    "https://www.gyeyang.go.kr/open_content/share/inc/pop_obesity.jsp?height="
   ]
  },
  {
   "cell_type": "code",
   "execution_count": 1,
   "metadata": {},
   "outputs": [
    {
     "name": "stdout",
     "output_type": "stream",
     "text": [
      "175 75 111.11111111111111\n"
     ]
    }
   ],
   "source": [
    "height = 175\n",
    "weight = 75\n",
    "standard_weight = (height - 100) * 0.9\n",
    "fatness = (weight / standard_weight) * 100\n",
    "print(height, weight, fatness)"
   ]
  },
  {
   "cell_type": "markdown",
   "metadata": {},
   "source": [
    "위 결과를 보면 어떤 숫자가 키와 몸무게이고 비만도인지 나타나있지 않기 때문에 좀 더 친절하게 써준다고 하면\n",
    "\n"
   ]
  },
  {
   "cell_type": "code",
   "execution_count": 2,
   "metadata": {},
   "outputs": [
    {
     "name": "stdout",
     "output_type": "stream",
     "text": [
      "제 키는 175cm이고 몸무게는 75Kg이며 비만도는 111.11111111111111입니다.\n"
     ]
    }
   ],
   "source": [
    "print('제 키는 ' + str(height) + 'cm이고 몸무게는 ' +  str(weight) + 'Kg이며 비만도는 ' + str(fatness) + '입니다.')"
   ]
  },
  {
   "cell_type": "markdown",
   "metadata": {},
   "source": [
    "이렇게 할 수 있습니다. <br>\n",
    "height, weight 등은 숫자이기 때문에 str()로 먼저 문자열로 변환한 후에 병합을 해야 하고, 덕분에 코드는 불편하기 짝이 없습니다.  <br>\n",
    "게다가 비만도 숫자는 너무 길어서 보기도 나쁩니다.\n",
    "\n",
    "이와 같이 여러 값들을 병합하여 문자열을 만드는 것을 문자열 포맷팅이라고 하며 파이썬은 다양한 방법을 지원합니다.\n",
    "### 1. 예전의 % 방식\n",
    "이 방식은 아주 예전 C의 printf 함수에서 사용하는 고전적인 방식입니다.  <br>\n",
    "옛날부터 코딩을 한 사람들에게는 편하지만 이제 코딩을 배운다면 별로라고 생각될 수 있습니다. <br>\n",
    "위 예를 %방식으로 표현해보겠습니다."
   ]
  },
  {
   "cell_type": "code",
   "execution_count": 3,
   "metadata": {},
   "outputs": [
    {
     "name": "stdout",
     "output_type": "stream",
     "text": [
      "제 키는 175cm이고 몸무게는 75Kg이며 비만도는 111.111111입니다.\n"
     ]
    }
   ],
   "source": [
    "print('제 키는 %icm이고 몸무게는 %iKg이며 비만도는 %f입니다.' % (height, weight, fatness))"
   ]
  },
  {
   "cell_type": "markdown",
   "metadata": {},
   "source": [
    "문자열 안에서 변수가 들어갈 위치에 %i(정수인 경우), %f(실수인 경우)를 써주고 문자열 뒤에 다시 %를 쓴 다음, 괄호 안에 변수명을 써줍니다. <br>\n",
    "문자열 안에 %를 쓸 때 뒤에 쓰는 문자에 따라 변수의 타입이 결정됩니다. 상세한 내용은 아래 링크를 참조하기 바랍니다. <br>\n",
    "https://docs.python.org/ko/3/library/stdtypes.html#old-string-formatting <br>\n",
    "\n",
    "확실히 예전보다는 좋아졌습니다. 비만도는 쓸데 없이 긴데, 그래도 수동으로 할 때보다 짧아졌습니다.  <br>\n",
    "보기 좋게 하기 위해서 소수점 이하 둘째자리까지만 출력하고 싶다면 %f 대신 %.2f를 씁니다.  <br>\n",
    "'.2'는 소수점 뒤 두자리까지만 출력하는 것을 의미합니다."
   ]
  },
  {
   "cell_type": "code",
   "execution_count": 4,
   "metadata": {},
   "outputs": [
    {
     "name": "stdout",
     "output_type": "stream",
     "text": [
      "제 키는 175cm이고 몸무게는 75Kg이며 비만도는 111.11입니다.\n"
     ]
    }
   ],
   "source": [
    "print('제 키는 %icm이고 몸무게는 %iKg이며 비만도는 %.2f입니다.' % (height, weight, fatness))"
   ]
  },
  {
   "cell_type": "markdown",
   "metadata": {},
   "source": [
    "### 2. str.format() 메서드 방식\n",
    "두번째 방식은 string 객체의 format()을 이용하는 방식입니다."
   ]
  },
  {
   "cell_type": "code",
   "execution_count": 5,
   "metadata": {},
   "outputs": [
    {
     "name": "stdout",
     "output_type": "stream",
     "text": [
      "제 키는 175cm이고 몸무게는 75Kg이며 비만도는 111.11입니다.\n"
     ]
    }
   ],
   "source": [
    "print('제 키는 {}cm이고 몸무게는 {}Kg이며 비만도는 {:.2f}입니다.'.format(height, weight, fatness))"
   ]
  },
  {
   "cell_type": "markdown",
   "metadata": {},
   "source": [
    "문자열 뒤에 % 대신 format() 메서드를 쓰고, 문자열 안에는 % 대신 {}를 썼으며 정수에 대해서는 타입 표시를 생략했습니다.  <br>\n",
    "단 실수는 소수점 이하 두자리 조건을 표시하기 위해 ':.2f'를 썼습니다. <br>\n",
    "% 방식보다 직관적이지만 뒤에 변수들을 나열하는 것이 여전히 불편합니다.\n",
    "### 3. f-문자열 방식\n",
    "f-문자열 방식은 파이썬 버전 3.6부터 지원되기 시작했습니다. <br>\n",
    "문자열 앞에 f를 붙이고 문자열 내 괄호 안에 직접 변수명을 씁니다."
   ]
  },
  {
   "cell_type": "code",
   "execution_count": 6,
   "metadata": {},
   "outputs": [
    {
     "name": "stdout",
     "output_type": "stream",
     "text": [
      "제 키는 175cm이고 몸무게는 75Kg이며 비만도는 111.11입니다.\n"
     ]
    }
   ],
   "source": [
    "print(f'제 키는 {height}cm이고 몸무게는 {weight}Kg이며 비만도는 {fatness:.2f}입니다.')"
   ]
  },
  {
   "cell_type": "markdown",
   "metadata": {},
   "source": [
    "길이도 짧아지고 보기에도 훨씬 직관적입니다.\n",
    "\n",
    "1, 2번 방식은 여러분이 다른 코드를 볼 때 이해하기 위해서 여전히 알 필요가 있고, 가급적이면 3번 방식을 사용하기를 추천합니다.\n",
    "\n",
    "상세 내용은 아래 링크를 참조하기 바랍니다.\n",
    "https://docs.python.org/ko/3/tutorial/inputoutput.html"
   ]
  }
 ],
 "metadata": {
  "kernelspec": {
   "display_name": "Python 3 (ipykernel)",
   "language": "python",
   "name": "python3"
  },
  "language_info": {
   "codemirror_mode": {
    "name": "ipython",
    "version": 3
   },
   "file_extension": ".py",
   "mimetype": "text/x-python",
   "name": "python",
   "nbconvert_exporter": "python",
   "pygments_lexer": "ipython3",
   "version": "3.10.13"
  }
 },
 "nbformat": 4,
 "nbformat_minor": 4
}
