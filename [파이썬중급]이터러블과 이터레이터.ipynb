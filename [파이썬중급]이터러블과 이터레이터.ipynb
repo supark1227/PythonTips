{
 "cells": [
  {
   "cell_type": "markdown",
   "metadata": {},
   "source": [
    "## [파이썬 중급] 이터러블(iterable)과 이터레이터(iterator)\n",
    "이터러블(iterable)과 이터레이터(iterator)는 반복을 위해 사용되는 객체라고 이해할 수 있습니다.  <br>\n",
    "이터러블은 반복의 대상, 이터레이터는 반복 수행을 위한 도구로 줄여서 말할 수 있겠습니다.\n",
    "\n",
    "for 문을 이용한 반복문을 보겠습니다."
   ]
  },
  {
   "cell_type": "code",
   "execution_count": 1,
   "metadata": {},
   "outputs": [
    {
     "name": "stdout",
     "output_type": "stream",
     "text": [
      "0\n",
      "1\n",
      "2\n",
      "3\n",
      "4\n",
      "5\n",
      "6\n",
      "7\n",
      "8\n",
      "9\n"
     ]
    }
   ],
   "source": [
    "for i in range(10):\n",
    "    print(i)"
   ]
  },
  {
   "cell_type": "markdown",
   "metadata": {},
   "source": [
    "이렇게 하면 i는 0부터 9까지 값을 가지면서 10회 반복됩니다.  <br>\n",
    "이 때 반복의 대상은 range(10)입니다."
   ]
  },
  {
   "cell_type": "code",
   "execution_count": 2,
   "metadata": {},
   "outputs": [
    {
     "name": "stdout",
     "output_type": "stream",
     "text": [
      "4\n",
      "6\n",
      "9\n",
      "2\n"
     ]
    }
   ],
   "source": [
    "for i in [4, 6, 9, 2]:\n",
    "    print(i)"
   ]
  },
  {
   "cell_type": "markdown",
   "metadata": {},
   "source": [
    "이렇게 하면 i는 4, 6, 9, 2 순으로 값을 가지면서 총 4회 반복되고 반복의 대상은 리스트인 [4, 6, 9, 2]입니다.\n",
    "\n",
    "이와 같이 반복이 수행될 때 반복의 대상이 되는 객체를 이터러블(iterable)이라고 합니다.  <br>\n",
    "위 예에서는 range(10)과 리스트인 [4, 6, 9, 2]가 iterable입니다. <br>\n",
    "어떤 객체가 iterable인지 알려면 __dir__ 메서드를 사용하면 됩니다.  <br>\n",
    "dir()함수는 그 객체가 사용할 수 있는 모든 메서드를 출력해줍니다.  <br>\n",
    "사용 가능한 메서드 중에 '__iter__'이 있으면 iterable입니다.  <br>\n",
    "이는 파이썬에서의 공식적인 정의에 가깝고 풀어서 말하자면 '반복이 가능하다'라고 할 수 있습니다.  <br>\n",
    "range()와 리스트에 대한 dir() 결과를 보면 다음과 같습니다. "
   ]
  },
  {
   "cell_type": "code",
   "execution_count": 3,
   "metadata": {},
   "outputs": [
    {
     "name": "stdout",
     "output_type": "stream",
     "text": [
      "['__add__', '__class__', '__class_getitem__', '__contains__', '__delattr__', '__delitem__', '__dir__', '__doc__', '__eq__', '__format__', '__ge__', '__getattribute__', '__getitem__', '__gt__', '__hash__', '__iadd__', '__imul__', '__init__', '__init_subclass__', '__iter__', '__le__', '__len__', '__lt__', '__mul__', '__ne__', '__new__', '__reduce__', '__reduce_ex__', '__repr__', '__reversed__', '__rmul__', '__setattr__', '__setitem__', '__sizeof__', '__str__', '__subclasshook__', 'append', 'clear', 'copy', 'count', 'extend', 'index', 'insert', 'pop', 'remove', 'reverse', 'sort']\n"
     ]
    }
   ],
   "source": [
    "print(dir(list))"
   ]
  },
  {
   "cell_type": "code",
   "execution_count": 4,
   "metadata": {},
   "outputs": [
    {
     "name": "stdout",
     "output_type": "stream",
     "text": [
      "['__bool__', '__class__', '__contains__', '__delattr__', '__dir__', '__doc__', '__eq__', '__format__', '__ge__', '__getattribute__', '__getitem__', '__gt__', '__hash__', '__init__', '__init_subclass__', '__iter__', '__le__', '__len__', '__lt__', '__ne__', '__new__', '__reduce__', '__reduce_ex__', '__repr__', '__reversed__', '__setattr__', '__sizeof__', '__str__', '__subclasshook__', 'count', 'index', 'start', 'step', 'stop']\n"
     ]
    }
   ],
   "source": [
    "print(dir(range))"
   ]
  },
  {
   "cell_type": "markdown",
   "metadata": {},
   "source": [
    "위 결과에서 보는 것처럼 둘 다 메서드 중에 '__iter__'가 있습니다.  <br>\n",
    "이 iter() 메서드가 하는 일은 이터레이터(iterator)를 생성하는 것입니다. <br>\n",
    "iterator에 대해 더 상세히 말하기 전에 iterable에 대해 잠깐 정리를 하겠습니다.\n",
    "\n",
    "1. for문에 사용하여 반복이 가능합니다. for 문 외에도 시퀀스를 필요로 하는 map(), zip() 등에 사용이 가능합니다. <br>\n",
    "2. __iter__ 메서드를 이용해 iterator의 생성이 가능합니다.\n",
    "\n",
    "iterable에 대해 반복을 수행하기 위해서는 원칙적으로 iterator를 생성해야 합니다.  <br>\n",
    "(for문은 이런 복잡한 과정을 알아서 해준다고 생각하면 됩니다.)  <br>\n",
    "그럼 반복이 되는 과정을 좀 더 정확하게 알기 위해 iterator를 알아봅시다.\n",
    "\n",
    "iterator는 데이터의 스트림을 표현하는 객체로 __next__ 메서드가 있는 객체를 말합니다.  <br>\n",
    "next()는 iterable 객체의 값들을 순서대로 하나씩 반환해 줍니다.  <br>\n",
    "무슨 말인지 이해하기 위해 예제를 보겠습니다."
   ]
  },
  {
   "cell_type": "code",
   "execution_count": 5,
   "metadata": {},
   "outputs": [],
   "source": [
    "iter_list = iter([4, 6, 9, 2]) # 리스트 객체에 대해 iterator 생성"
   ]
  },
  {
   "cell_type": "markdown",
   "metadata": {},
   "source": [
    "iter_list라는 이름으로 iterator가 생성되었습니다. <br>\n",
    "아래와 같이 dir로 메서드를 출력해봅니다."
   ]
  },
  {
   "cell_type": "code",
   "execution_count": 6,
   "metadata": {},
   "outputs": [
    {
     "name": "stdout",
     "output_type": "stream",
     "text": [
      "['__class__', '__delattr__', '__dir__', '__doc__', '__eq__', '__format__', '__ge__', '__getattribute__', '__gt__', '__hash__', '__init__', '__init_subclass__', '__iter__', '__le__', '__length_hint__', '__lt__', '__ne__', '__new__', '__next__', '__reduce__', '__reduce_ex__', '__repr__', '__setattr__', '__setstate__', '__sizeof__', '__str__', '__subclasshook__']\n"
     ]
    }
   ],
   "source": [
    "print(dir(iter_list))"
   ]
  },
  {
   "cell_type": "markdown",
   "metadata": {},
   "source": [
    "next() 메서드가 있는 것을 볼 수 있습니다. <br>\n",
    "이제 next()를 이용해 [4, 6, 9, 2] 리스트로부터 항목을 하나씩 꺼내서 출력합니다."
   ]
  },
  {
   "cell_type": "code",
   "execution_count": 7,
   "metadata": {},
   "outputs": [
    {
     "name": "stdout",
     "output_type": "stream",
     "text": [
      "4\n",
      "6\n",
      "9\n",
      "2\n"
     ]
    },
    {
     "ename": "StopIteration",
     "evalue": "",
     "output_type": "error",
     "traceback": [
      "\u001b[0;31m---------------------------------------------------------------------------\u001b[0m",
      "\u001b[0;31mStopIteration\u001b[0m                             Traceback (most recent call last)",
      "Cell \u001b[0;32mIn[7], line 5\u001b[0m\n\u001b[1;32m      3\u001b[0m \u001b[38;5;28mprint\u001b[39m(\u001b[38;5;28mnext\u001b[39m(iter_list)) \u001b[38;5;66;03m# 대상 리스트에서 다음 항목을 출력\u001b[39;00m\n\u001b[1;32m      4\u001b[0m \u001b[38;5;28mprint\u001b[39m(\u001b[38;5;28mnext\u001b[39m(iter_list)) \u001b[38;5;66;03m# 대상 리스트에서 다음 항목을 출력\u001b[39;00m\n\u001b[0;32m----> 5\u001b[0m \u001b[38;5;28mprint\u001b[39m(\u001b[38;5;28;43mnext\u001b[39;49m\u001b[43m(\u001b[49m\u001b[43miter_list\u001b[49m\u001b[43m)\u001b[49m)\n",
      "\u001b[0;31mStopIteration\u001b[0m: "
     ]
    }
   ],
   "source": [
    "print(next(iter_list)) # 대상 리스트에서 첫째 항목을 출력\n",
    "print(next(iter_list)) # 대상 리스트에서 다음 항목을 출력\n",
    "print(next(iter_list)) # 대상 리스트에서 다음 항목을 출력\n",
    "print(next(iter_list)) # 대상 리스트에서 다음 항목을 출력\n",
    "print(next(iter_list)) # 대상 리스트에서 다음 항목을 출력"
   ]
  },
  {
   "cell_type": "markdown",
   "metadata": {},
   "source": [
    "위 결과를 보면 순서대로 잘 출력이 되다가 다 출력된 후에는 StopIteration 에러가 발생합니다.  <br>\n",
    "즉 항목을 다 꺼내고 나면 처음으로 돌아가는 것이 아니라 에러가 발생합니다.  <br>\n",
    "이것은 일반적으로 이터레이터는 한번만 사용된다는 것을 의미합니다. <br>\n",
    "그러면 for 문을 쓰지 않고, while 문과 iterator로 반복문을 만들어봅시다."
   ]
  },
  {
   "cell_type": "code",
   "execution_count": 8,
   "metadata": {},
   "outputs": [
    {
     "name": "stdout",
     "output_type": "stream",
     "text": [
      "4\n",
      "6\n",
      "9\n",
      "2\n"
     ]
    }
   ],
   "source": [
    "iter_list = iter([4, 6, 9, 2]) # 리스트 객체에 대해 iterator 생성\n",
    "while True:\n",
    "    try:\n",
    "        i = next(iter_list) # 다음 항목을 꺼내옴\n",
    "    except StopIteration: #error가 발생하면 while문 종료\n",
    "        break\n",
    "    print(i)"
   ]
  },
  {
   "cell_type": "markdown",
   "metadata": {},
   "source": [
    "똑같지는 않겠지만 for문은 위와 같은 원리로 구현되어 있다고 생각하면 됩니다.  <br>\n",
    "우리는 위와 같은 복잡한 과정에 신경쓰지 않고 편하게 for 문을 쓰면 됩니다.\n",
    "\n",
    "그러면 반복의 과정을 정리해봅시다.\n",
    "\n",
    "1. iterable로부터 iter() 메서드를 이용해 iterator를 만든다. <br>\n",
    "2. iterator로부터 next() 메서드를 이용해 값을 하나씩 꺼낸다.\n",
    "\n",
    "추가로 위 내용을 보면 iterator의 메서드 중에 __iter__가 있는 것을 볼 수 있습니다. <br>\n",
    "이 메서드는 추가로 iterator를 만들어서 반환하는 것이 아니라 자기 자신을 반환합니다. \n"
   ]
  },
  {
   "cell_type": "markdown",
   "metadata": {},
   "source": [
    "## 이터러블(iterable)과 이터레이터(iterator)의 개념적 이해\n",
    "위에서 이터러블과 이터레이터에 대해 상세히 설명하고 있지만,  <br>\n",
    "사실 그 전에 개념적으로 이해를 하지 못하면 굉장히 난해하게 느껴질 수 있습니다.  <br>\n",
    "그래서 이 글에서는 코드 없이 예를 들어 가급적 쉽게 설명을 해볼까 합니다. <br>\n",
    "여러분이 일주일 동안 매일 다른 셔츠를 입고 싶다고 합시다.  <br>\n",
    "만일 셔츠가 한벌이라면 불가능한 일입니다.  <br>\n",
    "즉 이런 상황에서 셔츠가 한벌 밖에 없다면 '반복' 자체가 안 되죠.  <br>\n",
    "'반복'이 되려면 셔츠가 일곱벌이 있어야 합니다. \n",
    "\n",
    "이터러블(반복가능)은 셔츠 일곱벌과 같이 뭔가 반복이 가능하도록 하는 sequence를 말합니다.  <br>\n",
    "시퀀스의 중요한 특징은 순서가 있다는 것입니다.  <br>\n",
    "즉 일주일 동안 정해진 순서대로 7벌의 셔츠를 바꿔가며 입을 수 있기 때문에 순서가 있는 7벌의 셔츠는 이터러블이라고 할 수 있습니다.  <br>\n",
    "파이썬에서 리스트가 이터러블인 것과 같습니다.\n",
    "\n",
    "그럼 이터레이터는 뭘까요?  <br>\n",
    "셔츠 일곱벌은 그 자체로 개념적으로 이터러블이지만 실제로 반복을 하려면 매일 순서대로 일곱벌의 셔츠 중 하나씩을 골라야 합니다.  <br>\n",
    "이터레이터는 이렇게 이터러블에서 순서대로 하나씩을 골라주는 일을 하는 어떤 애라고 할 수 있습니다.  <br>\n",
    "예를 들면 여러분이 매일 다른 셔츠를 입고 싶다고 부모님께 말하면 부모님이 매일 하나씩 여러분들에게 셔츠를 하나씩 주실 수 있겠죠.  <br>\n",
    "그럼 부모님이 이터레이터 역할을 하고 계신 거라고 이해하면 됩니다.\n",
    "\n",
    "예를 바꿔서 대기표에 대해 생각해봅시다.  <br>\n",
    "식당에 손님들이 많이 와서 대기표를 나눠준다고 가정해봅시다.  <br>\n",
    "'반복가능'하려면 대기표가 여러장이 있어야 합니다.  <br>\n",
    "10명의 손님을 받으려면 10장의 대기표가 필요합니다.  <br>\n",
    "만일 대기표가 한장이라면 '반복'이 불가능하죠.  <br>\n",
    "물론 편법 같은 것을 써볼 수 있으나, 그런 것은 없다고 합시다.  <br>\n",
    "10장의 대기표는 '반복가능' 즉 이터러블입니다.  <br>\n",
    "여러분이 손님이 되어 이 식당에 가면 누군가가 10장의 대기표 중에서 하나씩을 뽑아서 줍니다(next).  <br>\n",
    "그 누군가가 이터레이터입니다.  <br>\n",
    "만일 대기표가 다 떨어지면 이제 더 이상 반복을 할 수 없습니다.  <br>\n",
    "이터레이터는 여러분에게 대기표가 없다고 에러를 냅니다.  <br>\n",
    "이해가 되시나요? 이제 위 내용을 다시 읽으면 이해가 좀 더 쉬워질 겁니다."
   ]
  }
 ],
 "metadata": {
  "kernelspec": {
   "display_name": "Python 3 (ipykernel)",
   "language": "python",
   "name": "python3"
  },
  "language_info": {
   "codemirror_mode": {
    "name": "ipython",
    "version": 3
   },
   "file_extension": ".py",
   "mimetype": "text/x-python",
   "name": "python",
   "nbconvert_exporter": "python",
   "pygments_lexer": "ipython3",
   "version": "3.10.13"
  }
 },
 "nbformat": 4,
 "nbformat_minor": 4
}
