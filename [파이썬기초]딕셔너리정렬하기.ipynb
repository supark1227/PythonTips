{
 "cells": [
  {
   "cell_type": "markdown",
   "metadata": {},
   "source": [
    "## [파이썬기초] 딕셔너리 정렬하기\n",
    "\n",
    "\"[파이썬기초]딕셔너리를이용한개수세기\"에서 딕셔너리를 이용한 개수 세기를 해봤습니다. <br>\n",
    "최종결과가 아래와 같이 나왔습니다.\n",
    "\n",
    "```\n",
    "{'\\n': 21, 'w': 11, 'h': 24, 'a': 36, 't': 43, ' ': 93, 'i': 27, 's': 33, 'l': 16, 'f': 11, 'e': 51, ',': 11, 'u': 9, 'o': 28, 'c': 9, 'r': 20, 'v': 2, 'n': 28, 'm': 10, 'd': 12, '.': 7, 'b': 5, 'g': 7, 'p': 3, 'q': 1, 'y': 4, 'k': 2, \"'\": 1}\n",
    "```\n",
    "\n",
    "그런데 보다시피 순서가 뒤죽박죽이라 보기가 별로 편하지 않군요.  <br>\n",
    "이것은 원래 딕셔너리가 순서가 의미없는 집합의 특성을 갖고 있기 때문입니다.  <br>\n",
    "만일 순서를 유지하고 싶다면 OrderedDict를 사용할 수 있습니다.  <br>\n",
    "(https://www.geeksforgeeks.org/ordereddict-in-python/ 참조) <br>\n",
    "하지만 주어진 환경에서 최선을 다하기 위해 우선 key 순서로 정렬을 해봅시다."
   ]
  },
  {
   "cell_type": "code",
   "execution_count": 1,
   "metadata": {},
   "outputs": [
    {
     "name": "stdout",
     "output_type": "stream",
     "text": [
      "['\\n', ' ', \"'\", ',', '.', 'a', 'b', 'c', 'd', 'e', 'f', 'g', 'h', 'i', 'k', 'l', 'm', 'n', 'o', 'p', 'q', 'r', 's', 't', 'u', 'v', 'w', 'y']\n"
     ]
    }
   ],
   "source": [
    "alpha_count = {'\\n': 21, 'w': 11, 'h': 24, 'a': 36, 't': 43, ' ': 93, 'i': 27, 's': 33, 'l': 16, 'f': 11, 'e': 51, ',': 11, 'u': 9, 'o': 28, 'c': 9, 'r': 20, 'v': 2, 'n': 28, 'm': 10, 'd': 12, '.': 7, 'b': 5, 'g': 7, 'p': 3, 'q': 1, 'y': 4, 'k': 2, \"'\": 1}\n",
    "print(sorted(alpha_count))"
   ]
  },
  {
   "cell_type": "markdown",
   "metadata": {},
   "source": [
    "이런... key가 정렬되어 나타나는 것은 좋은데 value는 어디론가 사라졌군요.  <br>\n",
    "어쨌든 key가 남아 있으니 value와 함께 출력하고 싶다면 아래와 같이 할 수 있겠죠?  <br>\n",
    "문자열 포맷팅은 https://deeptm.blogspot.com/2020/03/blog-post.html 을 참조하기 바랍니다."
   ]
  },
  {
   "cell_type": "code",
   "execution_count": 2,
   "metadata": {},
   "outputs": [
    {
     "name": "stdout",
     "output_type": "stream",
     "text": [
      "'\\n': 21, ' ': 93, \"'\": 1, ',': 11, '.': 7, 'a': 36, 'b': 5, 'c': 9, 'd': 12, 'e': 51, 'f': 11, 'g': 7, 'h': 24, 'i': 27, 'k': 2, 'l': 16, 'm': 10, 'n': 28, 'o': 28, 'p': 3, 'q': 1, 'r': 20, 's': 33, 't': 43, 'u': 9, 'v': 2, 'w': 11, 'y': 4, "
     ]
    }
   ],
   "source": [
    "for key in sorted(alpha_count):\n",
    "    print(f'{repr(key)}: {alpha_count[key]}', end=', ')"
   ]
  },
  {
   "cell_type": "markdown",
   "metadata": {},
   "source": [
    "위 코드에서 repr()을 쓴 이유는 \\n (줄바꿈 문자)와 같은 특수문자를 원래 모양대로 찍기위해서입니다.\n",
    "\n",
    "만일 개수가 많은 문자부터 순서대로 출력하고 싶다면 어떻게 할까요?  <br>\n",
    "아래와 같이 sorted의 인수를 줘서 할 수 있습니다."
   ]
  },
  {
   "cell_type": "code",
   "execution_count": 3,
   "metadata": {},
   "outputs": [
    {
     "name": "stdout",
     "output_type": "stream",
     "text": [
      "' ': 93, 'e': 51, 't': 43, 'a': 36, 's': 33, 'o': 28, 'n': 28, 'i': 27, 'h': 24, '\\n': 21, 'r': 20, 'l': 16, 'd': 12, 'w': 11, 'f': 11, ',': 11, 'm': 10, 'u': 9, 'c': 9, '.': 7, 'g': 7, 'b': 5, 'y': 4, 'p': 3, 'v': 2, 'k': 2, 'q': 1, \"'\": 1, "
     ]
    }
   ],
   "source": [
    "sorted_alpha_count = sorted(alpha_count, key=alpha_count.get, reverse=True)\n",
    "for key in sorted_alpha_count:\n",
    "    print(f'{repr(key)}: {alpha_count[key]}', end=', ')"
   ]
  },
  {
   "cell_type": "markdown",
   "metadata": {},
   "source": [
    "위 코드에서 sorted의 key 매개변수는 정렬할 기준값을 반환하는 함수를 인수로 받습니다.  <br>\n",
    "이 부분은 조금 어렵습니다.  <br>\n",
    "일단 함수를 인수로 넘겨주는 것에 대해 이해해야 하고 <br>\n",
    "(파이썬을 잘 알지 못한다면 인수는 당연히 어떤 값이어야 한다고 알고 있을 수 있습니다.),  <br>\n",
    "alpha_count.get()이 주어진 key 값에 대해 value를 반환하는 함수라는 것을 알아야 합니다.  <br>\n",
    "어쨌든 이렇게 해서 key가 아닌 value에 의해 정렬이 되도록 하고,  <br>\n",
    "reverse=True를 이용해 역순으로 정렬을 했습니다.\n",
    "\n",
    "좀 더 나아가서 위와 같이 딕셔너리로부터 정렬한 결과로 key만 저장하는 대신,  <br>\n",
    "key와 value의 쌍으로 정렬결과를 저장하고 싶다면 어떻게 해야 할까요? <br>\n",
    "딕셔너리로부터 key와 value 쌍을 가져오는 함수는 items() 입니다. <br>\n",
    "alpha_count.items()를 출력해 보면 다음과 같습니다."
   ]
  },
  {
   "cell_type": "code",
   "execution_count": 4,
   "metadata": {},
   "outputs": [
    {
     "name": "stdout",
     "output_type": "stream",
     "text": [
      "dict_items([('\\n', 21), ('w', 11), ('h', 24), ('a', 36), ('t', 43), (' ', 93), ('i', 27), ('s', 33), ('l', 16), ('f', 11), ('e', 51), (',', 11), ('u', 9), ('o', 28), ('c', 9), ('r', 20), ('v', 2), ('n', 28), ('m', 10), ('d', 12), ('.', 7), ('b', 5), ('g', 7), ('p', 3), ('q', 1), ('y', 4), ('k', 2), (\"'\", 1)])\n"
     ]
    }
   ],
   "source": [
    "print(alpha_count.items())"
   ]
  },
  {
   "cell_type": "markdown",
   "metadata": {},
   "source": [
    "즉 alpha_count.items()는 key와 value 쌍을 tuple로 묶은 것들의 리스트라고 할 수 있습니다. <br>\n",
    "이것을 이용하면 아래와 같이 정렬이 가능합니다."
   ]
  },
  {
   "cell_type": "code",
   "execution_count": 5,
   "metadata": {},
   "outputs": [
    {
     "name": "stdout",
     "output_type": "stream",
     "text": [
      "[(' ', 93), ('e', 51), ('t', 43), ('a', 36), ('s', 33), ('o', 28), ('n', 28), ('i', 27), ('h', 24), ('\\n', 21), ('r', 20), ('l', 16), ('d', 12), ('w', 11), ('f', 11), (',', 11), ('m', 10), ('u', 9), ('c', 9), ('.', 7), ('g', 7), ('b', 5), ('y', 4), ('p', 3), ('v', 2), ('k', 2), ('q', 1), (\"'\", 1)]\n"
     ]
    }
   ],
   "source": [
    "sorted_pairs_alpha_count = sorted(alpha_count.items(), key=lambda x:x[1], reverse=True)\n",
    "print(sorted_pairs_alpha_count)"
   ]
  },
  {
   "cell_type": "markdown",
   "metadata": {},
   "source": [
    "이 때 key=lambda x:x[1]에 주목해 봅시다.  <br>\n",
    "lambda는 무명함수 정의에 사용됩니다.  이 함수는 주어진 x에 대해 x[1]을 반환합니다.  <br>\n",
    "sorted()가 실행될 때, 위에서 정의한 무명함수는 이 리스트의 각 요소에 대해 적용되므로  <br>\n",
    "x인 (' ', 93)에 대해 x[1]에 해당하는 93을 반환합니다.  <br>\n",
    "즉 이렇게 해서 각 요소의 두번째 값인 개수에 의해 정렬이 됩니다.\n",
    "\n",
    "개수를 세고 그 결과가 저장된 딕셔너리의 정렬을 한꺼번에 하고 싶다면 Counter 클래스를 이용하여 아래와 같이 할 수 있습니다."
   ]
  },
  {
   "cell_type": "code",
   "execution_count": 6,
   "metadata": {},
   "outputs": [
    {
     "name": "stdout",
     "output_type": "stream",
     "text": [
      "Counter({' ': 93, 'e': 51, 't': 43, 'a': 36, 's': 33, 'o': 28, 'n': 28, 'i': 27, 'h': 24, '\\n': 21, 'r': 20, 'l': 16, 'd': 12, 'w': 11, 'f': 11, ',': 11, 'm': 10, 'u': 9, 'c': 9, '.': 7, 'g': 7, 'b': 5, 'y': 4, 'p': 3, 'v': 2, 'k': 2, 'q': 1, \"'\": 1})\n"
     ]
    }
   ],
   "source": [
    "from collections import Counter\n",
    "\n",
    "sentence = '''\n",
    "What is this life if, full of care,\n",
    "We have no time to stand and stare.\n",
    "\n",
    "No time to stand beneath the boughs\n",
    "And stare as long as sheep or cows.\n",
    "\n",
    "No time to see, when woods we pass,\n",
    "Where squirrels hide their nuts in grass.\n",
    "\n",
    "No time to see, in broad day light,\n",
    "Streams full of stars, like skies at night.\n",
    "\n",
    "No time to turn at beauty's glance,\n",
    "And watch her feet, how they can dance.\n",
    "\n",
    "No time to wait till her mouth can\n",
    "Enrich that smile her eyes began.\n",
    "\n",
    "A poor life this if, full of care,\n",
    "We have no time to stand and stare.\n",
    "'''\n",
    "\n",
    "count = Counter(sentence.lower())\n",
    "print(count)"
   ]
  },
  {
   "cell_type": "markdown",
   "metadata": {},
   "source": [
    "허무하죠? 그러나 개수를 세고 정렬을 하는 작업을 본인 입맛에 따라 다양하고 정밀하게 하고 싶다면,  <br>\n",
    "위에서 설명한 방법을 잘 익혀서 사용하는 것이 좋습니다. <br>\n",
    "파이썬에 대한 이해도 깊어지고 실력도 더 늘게 됩니다. "
   ]
  }
 ],
 "metadata": {
  "kernelspec": {
   "display_name": "Python 3 (ipykernel)",
   "language": "python",
   "name": "python3"
  },
  "language_info": {
   "codemirror_mode": {
    "name": "ipython",
    "version": 3
   },
   "file_extension": ".py",
   "mimetype": "text/x-python",
   "name": "python",
   "nbconvert_exporter": "python",
   "pygments_lexer": "ipython3",
   "version": "3.10.13"
  }
 },
 "nbformat": 4,
 "nbformat_minor": 4
}
