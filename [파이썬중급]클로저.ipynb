{
 "cells": [
  {
   "cell_type": "markdown",
   "metadata": {},
   "source": [
    "## [파이썬 중급] 클로저 (Closure)\n",
    "클로저는 파이썬에서 이해하기 어려운 개념 중에 하나입니다. <br>\n",
    "클로저가 의미하는 것이 정확히 함수인지, 함수 객체인지, 기술인지, 뭔가를 저장한 레코드인지 그것도 모호합니다. <br>\n",
    "클로저를 이해하기 위해서는 먼저 파이썬에서는 함수를 인수로 전달하거나 반환할 수도 있다는 것을 알아야 합니다. <br>\n",
    "[파이썬 기초] map(), filter()와 비슷한 일을 하는 함수 만들어보기를 참조하면 함수를 인수로 전달하는 예를 볼 수 있습니다. <br>\n",
    "클로저에서는 값이 아닌 함수를 반환합니다.<br>\n",
    "이것 외에 또 nested function을 이해해야 합니다. <br>\n",
    "파이썬에서는 함수 안에서 함수를 선언할 수 있습니다. 이것을 nested function이라고 합니다. <br>\n",
    "아래 예를 보겠습니다."
   ]
  },
  {
   "cell_type": "code",
   "execution_count": 1,
   "metadata": {},
   "outputs": [
    {
     "data": {
      "text/plain": [
       "25"
      ]
     },
     "execution_count": 1,
     "metadata": {},
     "output_type": "execute_result"
    }
   ],
   "source": [
    "def enclosing_function(arg): #내부 함수를 감싸고 있는 함수\n",
    "    def inner_function(x): #내부에 선언된 함수\n",
    "        return x*x\n",
    "    return inner_function(arg) #내부에 선언된 함수를 이용해 값을 계산하여 반환\n",
    "\n",
    "enclosing_function(5)"
   ]
  },
  {
   "cell_type": "markdown",
   "metadata": {},
   "source": [
    "위 예를 보면 enclosing_function() 함수 안에 inner_function() 함수가 선언되어 있습니다. <br>\n",
    "이 때 보통 내부에 선언되어 있는 함수를 영어로 inner function이라고 하고, <br>\n",
    "이 내부함수를 감싸는 바깥의 함수를 enclosing function이라고 합니다. <br>\n",
    "구글링해서 영어자료를 보고 이해라려면 영어에 익숙해질 필요가 있습니다. <br>\n",
    "아무튼 위와 같이 함수 안에 함수가 선언되고 사용되는 것을 nested function이라고 합니다. <br>\n",
    "이것을 아래와 같이 변형할 수 있습니다."
   ]
  },
  {
   "cell_type": "code",
   "execution_count": 2,
   "metadata": {},
   "outputs": [
    {
     "data": {
      "text/plain": [
       "25"
      ]
     },
     "execution_count": 2,
     "metadata": {},
     "output_type": "execute_result"
    }
   ],
   "source": [
    "def enclosing_function(): \n",
    "    def inner_function(x):\n",
    "        return x*x\n",
    "    return inner_function #내부함수를 이용해 값을 계산하는 대신 함수 자체를 반환\n",
    "\n",
    "my_func = enclosing_function()\n",
    "my_func(5)"
   ]
  },
  {
   "cell_type": "markdown",
   "metadata": {},
   "source": [
    "위 예에서는 내부함수를 이용해 값을 계산하는 대신 함수 자체를 반환합니다. <br>\n",
    "따라서 enclosing_function()으로부터 함수를 받아서 my_func에 저장하고 이 함수를 이용해 위와 같이 계산을 할 수 있습니다. <br>\n",
    "그럼 이와 같이 내부함수를 선언하고 반환하는 것을 클로저라고 할까요? <br>\n",
    "비슷하지만 조금 다릅니다. <br>\n",
    "영어로 된 아래 설명 혹은 정의를 봅시다.\n",
    "\n",
    "A Closure is a function object that remembers values in enclosing scopes even if they are not present in memory. - https://www.geeksforgeeks.org/python-closures/\n",
    "\n",
    "위 글에서는 클로저를 \"enclosing scope에 있는 값들이 메모리에서 사라진 후에도 기억하는 함수객체\"라고 말하고 있습니다. <br>\n",
    "무슨 소리일까요? <br>\n",
    "먼저 enclosing scope는 위 예에서 enclosing function 안이라고 이해하면 됩니다. <br>\n",
    "나머지를 이해하기 위해 아래 예를 보겠습니다."
   ]
  },
  {
   "cell_type": "code",
   "execution_count": 3,
   "metadata": {},
   "outputs": [
    {
     "name": "stdout",
     "output_type": "stream",
     "text": [
      "Hello\n"
     ]
    },
    {
     "data": {
      "text/plain": [
       "25"
      ]
     },
     "execution_count": 3,
     "metadata": {},
     "output_type": "execute_result"
    }
   ],
   "source": [
    "def enclosing_function(): \n",
    "    string = 'Hello' #enclosing scope에 선언된 변수와 값\n",
    "    def inner_function(x):\n",
    "        print(string) #enclosing scope의 변수를 출력\n",
    "        return x*x\n",
    "    return inner_function\n",
    "\n",
    "my_func = enclosing_function()\n",
    "my_func(5)"
   ]
  },
  {
   "cell_type": "markdown",
   "metadata": {},
   "source": [
    "앞의 함수와 달라진 점은 string 변수에 'Hello'를 할당하고 inner_function() 안에서 출력했다는 것입니다. <br>\n",
    "그런데 좀 이상하죠? my_func(5)가 실행되는 시점에서 enclosing_function()은 종료되고 없습니다. <br>\n",
    "따라서 string 변수는 사라졌어야 하고 그 값이 'Hello'도 없어졌어야 하는데 그 값인 'Hello'가 출력되었습니다. <br>\n",
    "바로 이것이 위 영어로 설명된 내용입니다. <br>\n",
    "즉 enclosing scope에 있는 변수의 값이 메모리에서 사라졌음에도 불구하고 my_func()는 그 값을 기억하고 있습니다. <br>\n",
    "이해가 되었나요? 다른 곳에서는 클로저를 이러한 것을 수행하는 기법이라고 설명하고 있습니다.\n",
    "\n",
    "This technique by which some data (\"Hello\") gets attached to the code is called closure in Python. - https://www.programiz.com/python-programming/closure\n",
    "\n",
    "클로저를 이용하면 보다 자유롭게 함수를 선언하는 것이 가능합니다. 아래 예를 보겠습니다.\n"
   ]
  },
  {
   "cell_type": "code",
   "execution_count": 4,
   "metadata": {},
   "outputs": [
    {
     "name": "stdout",
     "output_type": "stream",
     "text": [
      "16 64\n"
     ]
    }
   ],
   "source": [
    "def enclosing_function(n): #n을 인수로 받음\n",
    "    def inner_function(x):\n",
    "        return x**n #x의 n제곱을 계산\n",
    "    return inner_function\n",
    "\n",
    "square = enclosing_function(2) #제곱을 계산\n",
    "cube = enclosing_function(3) #세제곱을 계산\n",
    "print(square(4), cube(4))"
   ]
  },
  {
   "cell_type": "markdown",
   "metadata": {},
   "source": [
    "enclosing_function()에서 n을 인수로 받아 x의 n제곱을 자유롭게 정의할 있도록 했습니다. <br>\n",
    "사용한 예를 보면, square()는 제곱함수, cube()는 세제곱함수가 되었습니다.<br>\n",
    "위 예는 너무 간단해서 별로 와닿지 않을 수 있습니다. <br>\n",
    "그러나 이런 식으로 비슷한 유형의 다양한 함수를 쉽게 정의할 수 있다고 생각하면 되겠습니다."
   ]
  }
 ],
 "metadata": {
  "kernelspec": {
   "display_name": "Python 3 (ipykernel)",
   "language": "python",
   "name": "python3"
  },
  "language_info": {
   "codemirror_mode": {
    "name": "ipython",
    "version": 3
   },
   "file_extension": ".py",
   "mimetype": "text/x-python",
   "name": "python",
   "nbconvert_exporter": "python",
   "pygments_lexer": "ipython3",
   "version": "3.10.13"
  }
 },
 "nbformat": 4,
 "nbformat_minor": 4
}
