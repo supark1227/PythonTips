{
 "cells": [
  {
   "cell_type": "markdown",
   "metadata": {},
   "source": [
    "## [파이썬기초] 리스트 역순으로 만들기"
   ]
  },
  {
   "cell_type": "code",
   "execution_count": 1,
   "metadata": {},
   "outputs": [],
   "source": [
    "array = ['a', 'b', 'c', 'd', 'e']"
   ]
  },
  {
   "cell_type": "markdown",
   "metadata": {},
   "source": [
    "위 리스트의 역순으로 된 리스트를 만들고 싶다면 어떻게 해야 할까요. <br>\n",
    "초보적인 지식만으로 해결을 해봅시다. <br>\n",
    "위 리스트의 뒤에서부터 하나씩 가져와서 새로운 리스트를 만들면 되겠죠?"
   ]
  },
  {
   "cell_type": "code",
   "execution_count": 2,
   "metadata": {},
   "outputs": [
    {
     "name": "stdout",
     "output_type": "stream",
     "text": [
      "['e', 'd', 'c', 'b', 'a']\n"
     ]
    }
   ],
   "source": [
    "new_list = []\n",
    "for i in range(len(array), 0, -1):\n",
    "    new_list.append(array[i-1])\n",
    "print(new_list)"
   ]
  },
  {
   "cell_type": "markdown",
   "metadata": {},
   "source": [
    "위 코드와 같이 range()를 이용해서 마지막 인덱스부터 처음까지 역순으로 인덱스가 가도록 하고,  <br>\n",
    "처음 생각과 같이 새로운 리스트에 값을 추가합니다.  <br>\n",
    "이것보다 쉬운 방법은 없을까요?\n",
    "\n",
    "reverse라는 함수가 있습니다. 리스트를 인수로 주면 역순으로 반환해줍니다. <br>\n",
    "한번 사용해봅시다."
   ]
  },
  {
   "cell_type": "code",
   "execution_count": 3,
   "metadata": {},
   "outputs": [
    {
     "name": "stdout",
     "output_type": "stream",
     "text": [
      "<list_reverseiterator object at 0x1047eb4f0>\n"
     ]
    }
   ],
   "source": [
    "print(reversed(array))"
   ]
  },
  {
   "cell_type": "markdown",
   "metadata": {},
   "source": [
    "생각처럼 출력되지 않습니다.  <br>\n",
    "이것은 이터레이터 객체로 한번에 모든 값을 주는 것이 아니라 호출될때마다 하나씩 반환해 줍니다.  <br>\n",
    "for문을 이용해서 순서대로 출력하거나 list()를 이용하면 한번에 출력이 가능합니다."
   ]
  },
  {
   "cell_type": "code",
   "execution_count": 4,
   "metadata": {},
   "outputs": [
    {
     "name": "stdout",
     "output_type": "stream",
     "text": [
      "['e', 'd', 'c', 'b', 'a']\n"
     ]
    }
   ],
   "source": [
    "print(list(reversed(array)))"
   ]
  },
  {
   "cell_type": "markdown",
   "metadata": {},
   "source": [
    "더 쉬운 방법은 없을까요? 네 있습니다.  <br>\n",
    "리스트 인덱싱(슬라이스 인덱싱)을 이용하면 너무 쉽게 가능해집니다."
   ]
  },
  {
   "cell_type": "code",
   "execution_count": 5,
   "metadata": {},
   "outputs": [
    {
     "name": "stdout",
     "output_type": "stream",
     "text": [
      "['e', 'd', 'c', 'b', 'a']\n"
     ]
    }
   ],
   "source": [
    "print(array[::-1])"
   ]
  },
  {
   "cell_type": "markdown",
   "metadata": {},
   "source": [
    "리스트 인덱싱은 아주 기초적인 내용이지만 잘 숙지해두면 정말 유용하게 사용이 가능합니다.  <br>\n",
    "위 코드에서 마지막의 -1은 뒤에서부터 순차적으로 하나씩을 의미합니다. 이 값을 -2로 바꾸면 어떻게 될까요?"
   ]
  },
  {
   "cell_type": "code",
   "execution_count": 6,
   "metadata": {},
   "outputs": [
    {
     "name": "stdout",
     "output_type": "stream",
     "text": [
      "['e', 'c', 'a']\n"
     ]
    }
   ],
   "source": [
    "print(array[::-2])"
   ]
  }
 ],
 "metadata": {
  "kernelspec": {
   "display_name": "base",
   "language": "python",
   "name": "python3"
  },
  "language_info": {
   "codemirror_mode": {
    "name": "ipython",
    "version": 3
   },
   "file_extension": ".py",
   "mimetype": "text/x-python",
   "name": "python",
   "nbconvert_exporter": "python",
   "pygments_lexer": "ipython3",
   "version": "3.10.13"
  }
 },
 "nbformat": 4,
 "nbformat_minor": 2
}
