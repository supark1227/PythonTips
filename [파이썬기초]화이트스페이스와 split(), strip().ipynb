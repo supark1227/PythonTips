{
 "cells": [
  {
   "cell_type": "markdown",
   "metadata": {},
   "source": [
    "## [파이썬 기초] 화이트스페이스와 split(), strip()\n",
    "\n",
    "\"[파이썬 기초] 텍스트를 다루는 데 유용한 함수들\"에서 split()에 인수를 주지 않으면 공백을 기준으로 문장 혹은 문자열을 분리한다고 했습니다.  <br>그러나 엄밀히 말하면 split()은 화이트스페이스를 기준으로 문자열을 분리합니다.  <br>\n",
    "그럼 화이트스페이스는 무엇일까요? <br>\n",
    "(상세내용은 https://namu.wiki/w/%ED%99%94%EC%9D%B4%ED%8A%B8%EC%8A%A4%ED%8E%98%EC%9D%B4%EC%8A%A4 을 참조)\n",
    "\n",
    "화이트스페이스는 과거에 도트프린터로 출력을 하던 시절에 주로 사용한 '출력해도 눈에 보이지 않는 문자'입니다.  <br>\n",
    "공백(스페이스)를 비롯해서, 줄바꿈 문자, 탭 등이 있습니다.  <br>\n",
    "이런 문자들은 모양이 아니라 기능을 나타낸다고 이해해도 됩니다.  <br>\n",
    "공백은 실제로 공백을 출력하는 것이 아니고 한칸을 건너뛰라는 기능이고, 줄바꿈도 줄을 바꾸라는 기능이며,  <br>\n",
    "탭은 지정된 칸(보통 7칸)만큼 건너뛰라는 기능입니다. <br>\n",
    "아래 예를 봅시다."
   ]
  },
  {
   "cell_type": "code",
   "execution_count": 1,
   "metadata": {},
   "outputs": [
    {
     "name": "stdout",
     "output_type": "stream",
     "text": [
      "a\tb\n",
      "c\n"
     ]
    }
   ],
   "source": [
    "print('a\\tb\\nc')"
   ]
  },
  {
   "cell_type": "markdown",
   "metadata": {},
   "source": [
    "위 프린트문 안의 문자열에 사용된 '\\t'는 탭, '\\n'은 줄바꿈을 나타내는 특수문자입니다.  <br>\n",
    "그러니까 위 문자열은 'a', '\\t', 'b', '\\n', 'c'의 다섯 문자로 이루어져 있습니다.  <br>\n",
    "그 아래 출력된 결과를 보면 a와 b 사이에 탭 크기만큼 떨어져 있고, b 이후에 줄바꿈이 이루어진 것을 볼 수 있습니다. <br>\n",
    "특수문자의 기능을 수행하지 않고 모양 그대로 보고 싶다면 아래와 같이 출력하면 됩니다."
   ]
  },
  {
   "cell_type": "code",
   "execution_count": 2,
   "metadata": {},
   "outputs": [
    {
     "name": "stdout",
     "output_type": "stream",
     "text": [
      "a\\tb\\nc\n"
     ]
    }
   ],
   "source": [
    "print(r'a\\tb\\nc')"
   ]
  },
  {
   "cell_type": "markdown",
   "metadata": {},
   "source": [
    "이제 원래 이야기로 돌아와서 split()은 인수를 주지 않으면 이러한 화이트스페이스를 기준으로 분리를 합니다. <br>\n",
    "위에서 사용한 문자열에 split()을 적용해봅시다."
   ]
  },
  {
   "cell_type": "code",
   "execution_count": 3,
   "metadata": {},
   "outputs": [
    {
     "data": {
      "text/plain": [
       "['a', 'b', 'c']"
      ]
     },
     "execution_count": 3,
     "metadata": {},
     "output_type": "execute_result"
    }
   ],
   "source": [
    "'a\\tb\\nc'.split()"
   ]
  },
  {
   "cell_type": "markdown",
   "metadata": {},
   "source": [
    "'\\t', '\\n'도 모두 분리기준에 사용된 것을 볼 수 있습니다.\n",
    "\n",
    "strip()도 앞서 소개한 다른 메서드 못지 않게 텍스트 처리에서 많이 사용되는 함수입니다.  <br>\n",
    "strip은 인수 없이 사용하면 문자열 앞뒤에 있는 화이트스페이스를 없애줍니다. 아래 예를 봅시다."
   ]
  },
  {
   "cell_type": "code",
   "execution_count": 5,
   "metadata": {},
   "outputs": [
    {
     "data": {
      "text/plain": [
       "'a\\tb\\nc'"
      ]
     },
     "execution_count": 5,
     "metadata": {},
     "output_type": "execute_result"
    }
   ],
   "source": [
    "' \\ta\\tb\\nc\\n '.strip()"
   ]
  },
  {
   "cell_type": "markdown",
   "metadata": {},
   "source": [
    "앞에서 사용한 문자열 'a\\tb\\nc' 앞뒤로 일부러 공백과 '\\t', '\\n'을 넣었습니다.  <br>\n",
    "strip()을 적용한 결과, 앞뒤의 화이트스페이스는 사라졌지만 'a'와 'c' 사이에 있는 화이트스페이스는 사라지지 않았습니다.  <br>\n",
    "이해가 되었나요?\n",
    "\n",
    "strip()은 인수로 앞뒤에서 지우고 싶은 문자들을 줄 수 있습니다. <br>\n",
    "이 예를 봅시다."
   ]
  },
  {
   "cell_type": "code",
   "execution_count": 6,
   "metadata": {},
   "outputs": [
    {
     "data": {
      "text/plain": [
       "'bye'"
      ]
     },
     "execution_count": 6,
     "metadata": {},
     "output_type": "execute_result"
    }
   ],
   "source": [
    "',bye.'.strip('.,')"
   ]
  },
  {
   "cell_type": "markdown",
   "metadata": {},
   "source": [
    "bye 앞뒤에 있는 쉼표와 마침표가 사라졌습니다. <br>\n",
    "이제 strip을 사용하면 \"[파이썬 기초] 텍스트를 다루는 데 유용한 함수들\"에서 replace를 대신할 수 있습니다.\n",
    "\n",
    "`sentence.lower().replace('.', '').replace(',', '').split()`\n",
    "\n",
    "대신\n",
    "\n",
    "`[word.strip('.,') for word in sentence.lower().split()]`\n",
    "\n",
    "를 사용하여 쉼표와 마침표를 없앨 수 있습니다.\n",
    "\n",
    "어떤 것이 더 좋은 방법일까요?  <br>\n",
    "대용량의 데이터에 대해서 실험을 해보고 더 빠른 시간 안에 수행되는 것이 더 좋은 방법이겠죠?  <br>\n",
    "여러분이 직접 테스트해보기 바랍니다."
   ]
  }
 ],
 "metadata": {
  "kernelspec": {
   "display_name": "base",
   "language": "python",
   "name": "python3"
  },
  "language_info": {
   "codemirror_mode": {
    "name": "ipython",
    "version": 3
   },
   "file_extension": ".py",
   "mimetype": "text/x-python",
   "name": "python",
   "nbconvert_exporter": "python",
   "pygments_lexer": "ipython3",
   "version": "3.10.13"
  }
 },
 "nbformat": 4,
 "nbformat_minor": 2
}
