{
 "cells": [
  {
   "cell_type": "markdown",
   "metadata": {},
   "source": [
    "## [파이썬기초] 딕셔너리를 이용한 개수세기\n",
    "\n",
    "아래는 William Henry Davis의 Leisure 라는 시를 문자열 변수에 담은 것입니다."
   ]
  },
  {
   "cell_type": "code",
   "execution_count": 1,
   "metadata": {},
   "outputs": [],
   "source": [
    "sentence = '''\n",
    "What is this life if, full of care,\n",
    "We have no time to stand and stare.\n",
    "\n",
    "No time to stand beneath the boughs\n",
    "And stare as long as sheep or cows.\n",
    "\n",
    "No time to see, when woods we pass,\n",
    "Where squirrels hide their nuts in grass.\n",
    "\n",
    "No time to see, in broad day light,\n",
    "Streams full of stars, like skies at night.\n",
    "\n",
    "No time to turn at beauty's glance,\n",
    "And watch her feet, how they can dance.\n",
    "\n",
    "No time to wait till her mouth can\n",
    "Enrich that smile her eyes began.\n",
    "\n",
    "A poor life this if, full of care,\n",
    "We have no time to stand and stare.\n",
    "'''"
   ]
  },
  {
   "cell_type": "markdown",
   "metadata": {},
   "source": [
    "이제 위 시에 사용된 문자들의 개수를 세어봅시다. <br>\n",
    "가장 무식한 방법으로 아래와 같이 할 수도 있겠죠?"
   ]
  },
  {
   "cell_type": "code",
   "execution_count": 2,
   "metadata": {},
   "outputs": [
    {
     "name": "stdout",
     "output_type": "stream",
     "text": [
      "36 5\n"
     ]
    }
   ],
   "source": [
    "a_count = 0\n",
    "b_count = 0\n",
    "#...\n",
    "for ch in sentence.lower(): #sentence에 있는 모든 문자에 대하여\n",
    "    if ch == 'a':\n",
    "        a_count += 1\n",
    "    elif ch == 'b':\n",
    "        b_count += 1\n",
    "#...\n",
    "print(a_count, b_count)"
   ]
  },
  {
   "cell_type": "markdown",
   "metadata": {},
   "source": [
    "그런데 위 방법대로 하려면 알파벳 수만큼 변수를 만들어야 하고, <br>\n",
    "여기에 공백(스페이스), 쉼표, 따옴표 등의 문자 외에 줄바꿈과 같은 특수문자까지 다 변수로 만들어야 합니다.<br>\n",
    "if elif 문도 그만큼 길어지겠죠. <br>\n",
    "참고로 lower()는 대문자를 소문자로 바꿔주는 메서드입니다.\n",
    "\n",
    "딕셔너리를 이용하면 훨씬 쉽게 개수를 셀 수 있습니다. <br>\n",
    "딕셔너리는 key와 value의 쌍으로 이루어집니다. key에는 알파벳, value에는 개수를 할당해서 개수를 세어보도록 합시다. <br>\n",
    "다 세고 나면 딕셔너리는 대충 이런 모습으로 만들어집니다.\n",
    "\n",
    "`{'w': 11, 'h': 24, 'a': 36, 't': 43, ' ': 93, ..., \"'\": 1}`\n",
    "\n",
    "위 딕셔너리는 w가 11개, h가 24개, a가 36개 있음을 나타냅니다.\n",
    "\n",
    "먼저 아래와 같이 딕셔너리를 초기화하고, 각 문자에 대해 딕셔너리의 해당 key의 value값을 1씩 증가시킵니다."
   ]
  },
  {
   "cell_type": "code",
   "execution_count": 3,
   "metadata": {},
   "outputs": [
    {
     "ename": "KeyError",
     "evalue": "'\\n'",
     "output_type": "error",
     "traceback": [
      "\u001b[0;31m---------------------------------------------------------------------------\u001b[0m",
      "\u001b[0;31mKeyError\u001b[0m                                  Traceback (most recent call last)",
      "Cell \u001b[0;32mIn[3], line 3\u001b[0m\n\u001b[1;32m      1\u001b[0m alpha_count \u001b[38;5;241m=\u001b[39m {}\n\u001b[1;32m      2\u001b[0m \u001b[38;5;28;01mfor\u001b[39;00m ch \u001b[38;5;129;01min\u001b[39;00m sentence\u001b[38;5;241m.\u001b[39mlower():\n\u001b[0;32m----> 3\u001b[0m     alpha_count[ch] \u001b[38;5;241m=\u001b[39m \u001b[43malpha_count\u001b[49m\u001b[43m[\u001b[49m\u001b[43mch\u001b[49m\u001b[43m]\u001b[49m \u001b[38;5;241m+\u001b[39m \u001b[38;5;241m1\u001b[39m\n",
      "\u001b[0;31mKeyError\u001b[0m: '\\n'"
     ]
    }
   ],
   "source": [
    "alpha_count = {}\n",
    "for ch in sentence.lower():\n",
    "    alpha_count[ch] = alpha_count[ch] + 1"
   ]
  },
  {
   "cell_type": "markdown",
   "metadata": {},
   "source": [
    "그러나, 위 코드를 실행시키면 에러가 납니다.\n",
    "\n",
    "왜일까요? 문제는 위 문장의 오른쪽 alpha_count[ch]입니다. <br>\n",
    "ch의 값이 처음 등장하는 문자일 경우, 딕셔너리에 해당 key가 없기 때문에 KeyError가 발생합니다. <br>\n",
    "그럼 이렇게 수정하면 되겠죠?"
   ]
  },
  {
   "cell_type": "markdown",
   "metadata": {},
   "source": [
    "해당 문자가 딕셔너리에 있을 때는 그 값을 읽어와서 1을 더해주고, 없으면 처음 나왔다는 뜻이기 때문에 1로 초기화합니다.\n",
    "\n",
    "결과는 다음과 같습니다."
   ]
  },
  {
   "cell_type": "code",
   "execution_count": 4,
   "metadata": {},
   "outputs": [],
   "source": [
    "for ch in sentence.lower():\n",
    "    if ch in alpha_count: # 해당 문자가 딕셔너리에 있을 때\n",
    "        alpha_count[ch] = alpha_count[ch] + 1\n",
    "    else: # 해당 문자가 딕셔너리에 없을 때\n",
    "        alpha_count[ch] = 1"
   ]
  },
  {
   "cell_type": "code",
   "execution_count": 5,
   "metadata": {},
   "outputs": [
    {
     "name": "stdout",
     "output_type": "stream",
     "text": [
      "{'\\n': 21, 'w': 11, 'h': 24, 'a': 36, 't': 43, ' ': 93, 'i': 27, 's': 33, 'l': 16, 'f': 11, 'e': 51, ',': 11, 'u': 9, 'o': 28, 'c': 9, 'r': 20, 'v': 2, 'n': 28, 'm': 10, 'd': 12, '.': 7, 'b': 5, 'g': 7, 'p': 3, 'q': 1, 'y': 4, 'k': 2, \"'\": 1}\n"
     ]
    }
   ],
   "source": [
    "print(alpha_count)"
   ]
  },
  {
   "cell_type": "markdown",
   "metadata": {},
   "source": [
    "잘 되는군요. 위 코드를 조금만 줄여볼까요?  <br>\n",
    "딕셔너리의 get() 함수는 딕셔너리 인덱싱과 비슷한데 몇가지가 다릅니다.  <br>\n",
    "우선 get()은 딕셔너리에 없는 key를 입력받아도 fatal error를 발생하지 않고 대신 None을 반환합니다.  <br>\n",
    "그리고 인수를 이용하면 key가 존재하지 않을 때 반환하는 값을 None이 아니라 우리가 원하는 값으로 바꿀 수 있습니다."
   ]
  },
  {
   "cell_type": "code",
   "execution_count": 6,
   "metadata": {},
   "outputs": [
    {
     "name": "stdout",
     "output_type": "stream",
     "text": [
      "0\n"
     ]
    }
   ],
   "source": [
    "print(alpha_count.get('z', 0))"
   ]
  },
  {
   "cell_type": "markdown",
   "metadata": {},
   "source": [
    "위 코드를 실행시키면 alpha_count에 'z'가 없기 때문에 우리가 두번째 인수로 전달한 0을 출력합니다. <br>\n",
    "이것을 이용하면 위 코드를 아래와 같이 줄일 수 있습니다."
   ]
  },
  {
   "cell_type": "code",
   "execution_count": 7,
   "metadata": {},
   "outputs": [
    {
     "name": "stdout",
     "output_type": "stream",
     "text": [
      "{'\\n': 42, 'w': 22, 'h': 48, 'a': 72, 't': 86, ' ': 186, 'i': 54, 's': 66, 'l': 32, 'f': 22, 'e': 102, ',': 22, 'u': 18, 'o': 56, 'c': 18, 'r': 40, 'v': 4, 'n': 56, 'm': 20, 'd': 24, '.': 14, 'b': 10, 'g': 14, 'p': 6, 'q': 2, 'y': 8, 'k': 4, \"'\": 2}\n"
     ]
    }
   ],
   "source": [
    "for ch in sentence.lower():\n",
    "    alpha_count[ch] = alpha_count.get(ch, 0) + 1\n",
    "print(alpha_count)"
   ]
  },
  {
   "cell_type": "markdown",
   "metadata": {},
   "source": [
    "정말 간단하죠?\n",
    "\n",
    "#### 추가: 더 짧은 코드\n",
    "리스트에는 count()라는 메서드가 있습니다. 특정 값에 대해 리스트 안에서의 개수를 반환합니다. <br>\n",
    "이 메서드를 이용하면 한 줄로도 개수 딕셔너리를 만들 수 있습니다."
   ]
  },
  {
   "cell_type": "code",
   "execution_count": 8,
   "metadata": {},
   "outputs": [
    {
     "name": "stdout",
     "output_type": "stream",
     "text": [
      "{'\\n': 21, 'e': 51, 'w': 11, ',': 11, 'y': 4, \"'\": 1, 'g': 7, '.': 7, 'b': 5, 'p': 3, 's': 33, ' ': 93, 'c': 9, 'n': 28, 'l': 16, 'h': 24, 'i': 27, 'v': 2, 'r': 20, 't': 43, 'q': 1, 'a': 36, 'm': 10, 'd': 12, 'f': 11, 'k': 2, 'o': 28, 'u': 9}\n"
     ]
    }
   ],
   "source": [
    "target = sentence.lower()\n",
    "alpha_count = {ch:target.count(ch) for ch in set(target)}\n",
    "print(alpha_count)"
   ]
  },
  {
   "cell_type": "code",
   "execution_count": null,
   "metadata": {},
   "outputs": [],
   "source": []
  }
 ],
 "metadata": {
  "kernelspec": {
   "display_name": "Python 3 (ipykernel)",
   "language": "python",
   "name": "python3"
  },
  "language_info": {
   "codemirror_mode": {
    "name": "ipython",
    "version": 3
   },
   "file_extension": ".py",
   "mimetype": "text/x-python",
   "name": "python",
   "nbconvert_exporter": "python",
   "pygments_lexer": "ipython3",
   "version": "3.10.13"
  }
 },
 "nbformat": 4,
 "nbformat_minor": 4
}
