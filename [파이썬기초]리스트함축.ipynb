{
 "cells": [
  {
   "cell_type": "markdown",
   "metadata": {},
   "source": [
    "## [파이썬기초] 리스트 함축(list comprehension)\n",
    "리스트 함축은 파이썬을 파이썬답게 쓰기 위한 대표적인 기능입니다.  <br>\n",
    "다시 말해서 리스트 함축을 쓰지 않는다면 파이썬을 제대로 쓴다고 보기 어렵습니다.  <br>\n",
    "리스트 함축은 긴 문장을 줄여주고 가독성을 높여 줍니다. <br>\n",
    "먼저 아주 간단한 예부터 시작해봅시다."
   ]
  },
  {
   "cell_type": "code",
   "execution_count": 1,
   "metadata": {},
   "outputs": [],
   "source": [
    "items = [1, 2, 3, 4, 5, 6]"
   ]
  },
  {
   "cell_type": "markdown",
   "metadata": {},
   "source": [
    "위와 같이 1부터 6까지의 정수로 이루어진 리스트 items가 있을 때,  <br>\n",
    "이 값들에 대해 제곱을 해서 새로운 리스트를 만드는 작업을 일반적인 for 문으로 하면 다음과 같습니다."
   ]
  },
  {
   "cell_type": "code",
   "execution_count": 2,
   "metadata": {},
   "outputs": [
    {
     "name": "stdout",
     "output_type": "stream",
     "text": [
      "[1, 4, 9, 16, 25, 36]\n"
     ]
    }
   ],
   "source": [
    "squared = []\n",
    "for i in items:\n",
    "    squared.append(i**2)\n",
    "print(squared)"
   ]
  },
  {
   "cell_type": "markdown",
   "metadata": {},
   "source": [
    "이것을 리스트 함축으로 하면 아래와 같습니다."
   ]
  },
  {
   "cell_type": "code",
   "execution_count": 3,
   "metadata": {},
   "outputs": [
    {
     "name": "stdout",
     "output_type": "stream",
     "text": [
      "[1, 4, 9, 16, 25, 36]\n"
     ]
    }
   ],
   "source": [
    "squared = [i**2 for i in items]\n",
    "print(squared)"
   ]
  },
  {
   "cell_type": "markdown",
   "metadata": {},
   "source": [
    "`[i**2 for i in items]` 에서 리스트의 시작을 나타내는 '[' 뒤의 수식 `i**2`는 리스트에 추가될 값에 대한 수식입니다.  <br>\n",
    "즉 '어떤 i의 제곱값'을 리스트에 추가한다는 것을 의미합니다.  <br>\n",
    "그럼 어떤 i에 대해 제곱을 한다는 것일까요? 이것을 바로 뒤에서 알려줍니다.  <br>\n",
    "`for i in items`는 'items 리스트에 있는 각각의 i에 대해서'라는 뜻입니다. <br>\n",
    "위의 일반적인 for문과 비교해봅시다.  <br>\n",
    "위에서는 'for i in items:'가 먼저 나옵니다.  <br>\n",
    "즉 'items 리스트에 있는 각각의 i에 대해서' for 블록 안의 문장인 `squared.append(i**2)`을 수행하라는 뜻입니다.  <br>\n",
    "`squared.append(i**2)`에서는 squared 리스트에 수식 `i**2`를 계산한 결과를 추가하고 있습니다.  <br>\n",
    "리스트 함축에서는 squared.append 를 생략하고 추가할 수식과 for 문의 순서를 바꾸어 쓴다고 생각하면 됩니다.  <br>\n",
    "즉 'items에 있는 각각의 i에 대해 `i**2`를 계산하여 squared에 추가하라'를 함축적으로 표현하고 있습니다.  <br>\n",
    "이 때 i는 items에 있는 각각의 값을 의미하므로 내가 원하는 변수로 바꾸어도 됩니다.  <br>\n",
    "`[x**2 for x in items]`라고 써도 상관없습니다.  <br>\n",
    "단지 수식의 x와 for 뒤의 x가 일치하기만 하면 됩니다.\n",
    "\n",
    "다음은 조건을 추가해보겠습니다. <br>\n",
    "위의 예제에서 items에 있는 모든 요소 대신 짝수만을 대상으로 제곱값을 계산한다고 합시다.  <br>\n",
    "일반적인 for문은 다음과 같습니다."
   ]
  },
  {
   "cell_type": "code",
   "execution_count": 4,
   "metadata": {},
   "outputs": [
    {
     "name": "stdout",
     "output_type": "stream",
     "text": [
      "[4, 16, 36]\n"
     ]
    }
   ],
   "source": [
    "squared = []\n",
    "for i in items:\n",
    "    if i % 2 == 0:\n",
    "        squared.append(i**2)\n",
    "print(squared)"
   ]
  },
  {
   "cell_type": "markdown",
   "metadata": {},
   "source": [
    "처음 예와 비교하여 for 문 안에 if가 추가되었습니다. <br>\n",
    "리스트 함축을 보겠습니다."
   ]
  },
  {
   "cell_type": "code",
   "execution_count": 5,
   "metadata": {},
   "outputs": [],
   "source": [
    "squared = [i**2 for i in items if i % 2 == 0]"
   ]
  },
  {
   "cell_type": "markdown",
   "metadata": {},
   "source": [
    "리스트 함축에서는 if문을 별도의 줄로 쓰지 않고 for 문 뒤에 바로 이어서 쓰고 있습니다. <br>\n",
    "'items에 있는 모든 i에 대해 만일 i가 짝수이면 `i**2`를 계산하여 리스트에 추가'하라는 뜻입니다.  <br>\n",
    "익숙해지면 리스트 함축이 굉장히 쉽게 읽히는 것을 알 수 있습니다.  <br>\n",
    "또한 보다시피 일반적인 for문을 쓰면 네 줄이 걸리는 것을 한 줄로 줄여서 쓰고 있습니다. <br>\n",
    "리스트 함축은 굉장히 유용하고 많이 쓰이기 때문에 반드시 잘 익힐 필요가 있습니다."
   ]
  }
 ],
 "metadata": {
  "kernelspec": {
   "display_name": "base",
   "language": "python",
   "name": "python3"
  },
  "language_info": {
   "codemirror_mode": {
    "name": "ipython",
    "version": 3
   },
   "file_extension": ".py",
   "mimetype": "text/x-python",
   "name": "python",
   "nbconvert_exporter": "python",
   "pygments_lexer": "ipython3",
   "version": "3.10.13"
  }
 },
 "nbformat": 4,
 "nbformat_minor": 2
}
