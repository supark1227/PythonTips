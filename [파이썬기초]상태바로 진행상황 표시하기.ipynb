{
 "cells": [
  {
   "cell_type": "markdown",
   "metadata": {},
   "source": [
    "## [파이썬기초] 상태바로 진행상황 표시하기 - tqdm\n",
    "\n",
    "for문을 이용해서 반복문을 수행할 때, 시간이 오래 걸린다면 현재 얼마나 돌고 있는지 상태를 확인하고 싶은 생각이 듭니다. <br>\n",
    "tqdm은 이와 같은 진행표시를 위해 상태바를 출력해주는 라이브러리입니다.\n",
    "\n",
    "먼저 tqdm을 설치합니다. 아나콘다를 쓴다면 conda로, 아니라면 pip로 설치합니다."
   ]
  },
  {
   "cell_type": "code",
   "execution_count": 1,
   "metadata": {},
   "outputs": [
    {
     "name": "stdout",
     "output_type": "stream",
     "text": [
      "Requirement already satisfied: tqdm in /Users/sangunpark/miniconda3/lib/python3.10/site-packages (4.66.4)\n",
      "Note: you may need to restart the kernel to use updated packages.\n"
     ]
    }
   ],
   "source": [
    "%pip install tqdm"
   ]
  },
  {
   "cell_type": "markdown",
   "metadata": {},
   "source": [
    "아래는 tqdm을 이용하여 10번의 반복 상황을 보여주는 코드입니다."
   ]
  },
  {
   "cell_type": "code",
   "execution_count": 2,
   "metadata": {},
   "outputs": [
    {
     "name": "stderr",
     "output_type": "stream",
     "text": [
      "100%|███████████████████████████████████████████| 10/10 [00:05<00:00,  1.97it/s]\n"
     ]
    }
   ],
   "source": [
    "from tqdm import tqdm\n",
    "import time\n",
    "\n",
    "for i in tqdm(range(10)):\n",
    "    time.sleep(0.5)\n",
    "    #print(i)"
   ]
  },
  {
   "cell_type": "markdown",
   "metadata": {},
   "source": [
    "이상과 같이 현재 진행상황을 시각적으로 확인하는 것이 가능합니다.\n",
    "\n",
    "time.sleep()은 주어진 시간만큼 delay를 주기 위해 사용했습니다.  <br>\n",
    "즉 아무것도 안하고 시간만 끄는 함수로, 바가 너무 빨리 휙 지나가지 않게 하려고 추가한 코드입니다. <br>\n",
    "tqdm의 사용법은 아주 간단합니다. for문에 사용하는 range()를 위 코드와 같이 감싸주면 됩니다."
   ]
  }
 ],
 "metadata": {
  "kernelspec": {
   "display_name": "Python 3 (ipykernel)",
   "language": "python",
   "name": "python3"
  },
  "language_info": {
   "codemirror_mode": {
    "name": "ipython",
    "version": 3
   },
   "file_extension": ".py",
   "mimetype": "text/x-python",
   "name": "python",
   "nbconvert_exporter": "python",
   "pygments_lexer": "ipython3",
   "version": "3.10.13"
  }
 },
 "nbformat": 4,
 "nbformat_minor": 4
}
