{
 "cells": [
  {
   "cell_type": "markdown",
   "metadata": {},
   "source": [
    "## [파이썬 기초] 텍스트를 다루는 데 유용한 함수들\n",
    "기본적으로 텍스트는 문자열이므로 유용한 함수들은 모두 문자열 함수라고 할 수 있습니다. <br>\n",
    "William Henry Davis의 Leisure 라는 시를 다시 보도록 합시다."
   ]
  },
  {
   "cell_type": "code",
   "execution_count": 1,
   "metadata": {},
   "outputs": [],
   "source": [
    "sentence = '''\n",
    "What is this life if, full of care,\n",
    "We have no time to stand and stare.\n",
    "\n",
    "No time to stand beneath the boughs\n",
    "And stare as long as sheep or cows.\n",
    "\n",
    "No time to see, when woods we pass,\n",
    "Where squirrels hide their nuts in grass.\n",
    "\n",
    "No time to see, in broad day light,\n",
    "Streams full of stars, like skies at night.\n",
    "\n",
    "No time to turn at beauty's glance,\n",
    "And watch her feet, how they can dance.\n",
    "\n",
    "No time to wait till her mouth can\n",
    "Enrich that smile her eyes began.\n",
    "\n",
    "A poor life this if, full of care,\n",
    "We have no time to stand and stare.\n",
    "'''"
   ]
  },
  {
   "cell_type": "markdown",
   "metadata": {},
   "source": [
    "위 시에 사용된 단어들을 순서대로 추출하여 리스트로 만든다고 합시다. (이것을 tokenize라고 합니다.) <br>\n",
    "이를 위해 가장 먼저 split()을 사용할 수 있습니다.  <br>\n",
    "split() 메서드는 인수로 주어진 문자열을 기준으로 문장을 분리합니다.  <br>\n",
    "예를 들어 'Hi, how are you?'라는 문장을, 공백을 기준으로 분리하고 싶다면 아래와 같이 인수 없이 split()을 호출하면 됩니다."
   ]
  },
  {
   "cell_type": "code",
   "execution_count": 2,
   "metadata": {},
   "outputs": [
    {
     "data": {
      "text/plain": [
       "['Hi,', 'how', 'are', 'you?']"
      ]
     },
     "execution_count": 2,
     "metadata": {},
     "output_type": "execute_result"
    }
   ],
   "source": [
    "'Hi, how are you?'.split()"
   ]
  },
  {
   "cell_type": "markdown",
   "metadata": {},
   "source": [
    "동일한 문장에 대해 ','를 기준으로 분리하고 싶다면 어떻게 하면 될까요?"
   ]
  },
  {
   "cell_type": "code",
   "execution_count": 3,
   "metadata": {},
   "outputs": [
    {
     "data": {
      "text/plain": [
       "['Hi', ' how are you?']"
      ]
     },
     "execution_count": 3,
     "metadata": {},
     "output_type": "execute_result"
    }
   ],
   "source": [
    "'Hi, how are you?'.split(',')"
   ]
  },
  {
   "cell_type": "markdown",
   "metadata": {},
   "source": [
    "Hi 뒤에 ,가 있으므로 위 예와 같이 두 개의 문자열로 분리됩니다. <br>\n",
    "이제 맨 위의 시에 대해 split()을 적용해봅시다."
   ]
  },
  {
   "cell_type": "code",
   "execution_count": 4,
   "metadata": {},
   "outputs": [
    {
     "name": "stdout",
     "output_type": "stream",
     "text": [
      "['What', 'is', 'this', 'life', 'if,', 'full', 'of', 'care,', 'We', 'have', 'no', 'time', 'to', 'stand', 'and', 'stare.', 'No', 'time', 'to', 'stand', 'beneath', 'the', 'boughs', 'And', 'stare', 'as', 'long', 'as', 'sheep', 'or', 'cows.', 'No', 'time', 'to', 'see,', 'when', 'woods', 'we', 'pass,', 'Where', 'squirrels', 'hide', 'their', 'nuts', 'in', 'grass.', 'No', 'time', 'to', 'see,', 'in', 'broad', 'day', 'light,', 'Streams', 'full', 'of', 'stars,', 'like', 'skies', 'at', 'night.', 'No', 'time', 'to', 'turn', 'at', \"beauty's\", 'glance,', 'And', 'watch', 'her', 'feet,', 'how', 'they', 'can', 'dance.', 'No', 'time', 'to', 'wait', 'till', 'her', 'mouth', 'can', 'Enrich', 'that', 'smile', 'her', 'eyes', 'began.', 'A', 'poor', 'life', 'this', 'if,', 'full', 'of', 'care,', 'We', 'have', 'no', 'time', 'to', 'stand', 'and', 'stare.']\n"
     ]
    }
   ],
   "source": [
    "result = sentence.split()\n",
    "print(result)"
   ]
  },
  {
   "cell_type": "markdown",
   "metadata": {},
   "source": [
    "잘 된 것 같지만 마음에 들지 않는 부분이 있습니다. <br>\n",
    "1. 우선 'What'과 같이 첫글자가 대문자인 경우, 'what'과 같은 단어인데도 다르게 인식되는 문제가 있습니다.\n",
    "2. 'care,', 'stare.'와 같이 쉼표와 마침표가 들어가서 마찬가지로 단어만 있을 때와 다르게 인식이 됩니다.\n",
    "\n",
    "1번 문제는 lower() 메서드를 사용하면 됩니다. lower()는 모든 대문자를 소문자로 변경해줍니다.  <br>\n",
    "반대로 모든 소문자를 대문자로 변경하고 싶으면 upper() 메서드를 사용하면 됩니다.  <br>\n",
    "이 외에 문장의 첫 글자만 대문자로 바꾸고 싶으면 capitalize() 메서드를 사용합니다.\n",
    "\n",
    "2번 문제는 sentence에서 쉼표와 마침표를 없애주면 되는데, 이 때 사용할 수 있는 메서드는 replace() 입니다.  <br>\n",
    "replace()의 사용법은 아래와 같습니다.\n",
    "\n",
    "`string.replace(oldvalue, newvalue, count)`\n",
    "\n",
    "두 가지를 sentence에 한꺼번에 적용시키고, split까지 해보겠습니다."
   ]
  },
  {
   "cell_type": "code",
   "execution_count": 5,
   "metadata": {},
   "outputs": [
    {
     "name": "stdout",
     "output_type": "stream",
     "text": [
      "['what', 'is', 'this', 'life', 'if', 'full', 'of', 'care', 'we', 'have', 'no', 'time', 'to', 'stand', 'and', 'stare', 'no', 'time', 'to', 'stand', 'beneath', 'the', 'boughs', 'and', 'stare', 'as', 'long', 'as', 'sheep', 'or', 'cows', 'no', 'time', 'to', 'see', 'when', 'woods', 'we', 'pass', 'where', 'squirrels', 'hide', 'their', 'nuts', 'in', 'grass', 'no', 'time', 'to', 'see', 'in', 'broad', 'day', 'light', 'streams', 'full', 'of', 'stars', 'like', 'skies', 'at', 'night', 'no', 'time', 'to', 'turn', 'at', \"beauty's\", 'glance', 'and', 'watch', 'her', 'feet', 'how', 'they', 'can', 'dance', 'no', 'time', 'to', 'wait', 'till', 'her', 'mouth', 'can', 'enrich', 'that', 'smile', 'her', 'eyes', 'began', 'a', 'poor', 'life', 'this', 'if', 'full', 'of', 'care', 'we', 'have', 'no', 'time', 'to', 'stand', 'and', 'stare']\n"
     ]
    }
   ],
   "source": [
    "result = sentence.lower().replace('.', '').replace(',', '').split()\n",
    "print(result)"
   ]
  },
  {
   "cell_type": "markdown",
   "metadata": {},
   "source": [
    "위에서 볼 수 있듯이 메서드를 적용한 결과가 문자열인 경우, 메서드를 계속 이어서 쓸 수 있습니다.  <br>\n",
    "위 예에서 split()을 적용한 결과는 리스트이므로 split()은 가장 나중에 와야 합니다.  <br>\n",
    "만일 split()을 가장 먼저 적용하면 어떤 결과가 나올까요?"
   ]
  },
  {
   "cell_type": "code",
   "execution_count": 6,
   "metadata": {
    "scrolled": true
   },
   "outputs": [
    {
     "ename": "AttributeError",
     "evalue": "'list' object has no attribute 'lower'",
     "output_type": "error",
     "traceback": [
      "\u001b[0;31m---------------------------------------------------------------------------\u001b[0m",
      "\u001b[0;31mAttributeError\u001b[0m                            Traceback (most recent call last)",
      "Cell \u001b[0;32mIn[6], line 1\u001b[0m\n\u001b[0;32m----> 1\u001b[0m \u001b[43msentence\u001b[49m\u001b[38;5;241;43m.\u001b[39;49m\u001b[43msplit\u001b[49m\u001b[43m(\u001b[49m\u001b[43m)\u001b[49m\u001b[38;5;241;43m.\u001b[39;49m\u001b[43mlower\u001b[49m()\u001b[38;5;241m.\u001b[39mreplace(\u001b[38;5;124m'\u001b[39m\u001b[38;5;124m.\u001b[39m\u001b[38;5;124m'\u001b[39m, \u001b[38;5;124m'\u001b[39m\u001b[38;5;124m'\u001b[39m)\u001b[38;5;241m.\u001b[39mreplace(\u001b[38;5;124m'\u001b[39m\u001b[38;5;124m,\u001b[39m\u001b[38;5;124m'\u001b[39m, \u001b[38;5;124m'\u001b[39m\u001b[38;5;124m'\u001b[39m)\n",
      "\u001b[0;31mAttributeError\u001b[0m: 'list' object has no attribute 'lower'"
     ]
    }
   ],
   "source": [
    "sentence.split().lower().replace('.', '').replace(',', '')"
   ]
  },
  {
   "cell_type": "markdown",
   "metadata": {},
   "source": [
    "이상과 같이 에러가 발생하게 됩니다.  <br>\n",
    "split()의 결과는 'list'이므로 여기에 lower() 메서드를 적용할 수 없다는 메시지를 줍니다.\n",
    "\n",
    "자, 이 정도면 비교적 훌륭하게 원래 시로부터 단어들을 잘 추출해 내었습니다.  <br>\n",
    "그러나 여전히 마음에 안 드는 부분이 있습니다.\n",
    "\n",
    "첫째, 단수와 복수 문제입니다.  <br>\n",
    "'woods', streams', 'squirrels'와 같은 복수형은 단수형인 'wood' 등으로 바꾸는 것이 좋을 것 같습니다.  <br>\n",
    "(사실 이런 부분은 목적에 따라 다를 수도 있습니다. 복수형으로 두어야 분석에 더 적합할 때도 있으니까요.) <br>\n",
    "둘째, 현재형, 과거형, 미래형과 같은 시제의 문제입니다. 원형은 같은데 시제에 따라 서로 다른 단어가 됩니다.  <br>\n",
    "이것은 동사 원형으로 바꾸면 좋을 것 같습니다. <br>\n",
    "셋째, beauty's과 같은 소유격의 문제가 있습니다. <br>\n",
    "넷째, I'm과 같은 줄임말을 'I am'과 같이 원래대로 돌려주고 싶습니다.\n",
    "\n",
    "이런 문제들을 해결하는 것이 텍스트 마이닝의 기초입니다.  <br>\n",
    "이 부분은 파이썬 초급이라고 하기에는 좀 어려울 수 있어서 나중에 텍스트 마이닝 컨텐츠에서 더 살펴보도록 하겠습니다. <br>\n",
    "문자열과 관련된 다양한 함수들은 아래 링크를 참조하기 바랍니다. <br>\n",
    "https://docs.python.org/2.5/lib/string-methods.html"
   ]
  }
 ],
 "metadata": {
  "kernelspec": {
   "display_name": "Python 3 (ipykernel)",
   "language": "python",
   "name": "python3"
  },
  "language_info": {
   "codemirror_mode": {
    "name": "ipython",
    "version": 3
   },
   "file_extension": ".py",
   "mimetype": "text/x-python",
   "name": "python",
   "nbconvert_exporter": "python",
   "pygments_lexer": "ipython3",
   "version": "3.10.13"
  }
 },
 "nbformat": 4,
 "nbformat_minor": 4
}
