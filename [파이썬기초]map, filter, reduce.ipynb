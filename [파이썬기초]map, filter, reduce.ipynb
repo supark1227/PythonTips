{
 "cells": [
  {
   "cell_type": "markdown",
   "metadata": {},
   "source": [
    "## [파이썬 기초] map, filter, reduce\n",
    "\n",
    "R을 제외한 다른 언어로 코딩을 하다가 파이썬을 쓰면 생소한 함수들이 보입니다.  <br>\n",
    "그 중에 대표적인 것으로 map, filter, reduce가 있습니다. 처음 이 함수들을 접하면 매우 어렵게 느껴집니다.  <br>\n",
    "그러나 원리를 잘 이해하고 몇번 반복해서 사용하다 보면, 결국은 쉽고 편리한 코딩을 위해 만들어졌다는 것을 알게 됩니다. <br>\n",
    "### 1. map\n",
    "먼저 map에 대해 알아봅니다.  <br>\n",
    "아래와 같이 1부터 6으로 이루어진 리스트가 있을 때 이 리스트의 각 요소들에 대해 제곱값을 계산하여 새로운 리스트를 만들어봅시다.  <br>\n",
    "먼저 리스트 압축으로 해보겠습니다.  <br>\n",
    "([파이썬 기초] 리스트 함축(list comprehension) 참조)"
   ]
  },
  {
   "cell_type": "code",
   "execution_count": 1,
   "metadata": {},
   "outputs": [
    {
     "data": {
      "text/plain": [
       "[1, 4, 9, 16, 25, 36]"
      ]
     },
     "execution_count": 1,
     "metadata": {},
     "output_type": "execute_result"
    }
   ],
   "source": [
    "items = [1, 2, 3, 4, 5, 6]\n",
    "squared = [x**2 for x in items]\n",
    "squared"
   ]
  },
  {
   "cell_type": "markdown",
   "metadata": {},
   "source": [
    "map은 리스트의 모든 요소에 대해 각각 함수를 적용시키고 그 결과로 리스트를 만들어 반환하는 함수입니다.  <br>\n",
    "위 내용을 map으로 하면 다음과 같습니다."
   ]
  },
  {
   "cell_type": "code",
   "execution_count": 2,
   "metadata": {},
   "outputs": [
    {
     "data": {
      "text/plain": [
       "[1, 4, 9, 16, 25, 36]"
      ]
     },
     "execution_count": 2,
     "metadata": {},
     "output_type": "execute_result"
    }
   ],
   "source": [
    "squared = list(map(lambda x: x**2, items))\n",
    "squared"
   ]
  },
  {
   "cell_type": "markdown",
   "metadata": {},
   "source": [
    "위 예에서 map은 두개의 인수를 가집니다.  <br>\n",
    "첫째는 lambda를 이용한 무명함수이고 둘째는 그 위에서 선언된 리스트 items입니다.  <br>\n",
    "무명함수는 주어진 x에 대해 x**2을 계산하여 반환합니다.  <br>\n",
    "즉 이 문장이 하는 일은 items의 값들에 대해 제곱값을 계산하여 리스트를 만드는 것입니다.  <br>\n",
    "그런데 list()는 왜 쓰인 걸까요?  <br>\n",
    "map은 정확하게 말해서 리스트를 반환하는 것이 아니고 이터레이터(iterator)를 반환합니다.  <br>\n",
    "iterator는  [파이썬 중급] 이터러블(iterable)과 이터레이터(iterator)에서 설명했습니다.  <br>\n",
    "list를 빼고 실행시켜보겠습니다."
   ]
  },
  {
   "cell_type": "code",
   "execution_count": 3,
   "metadata": {},
   "outputs": [
    {
     "data": {
      "text/plain": [
       "<map at 0x1051836d0>"
      ]
     },
     "execution_count": 3,
     "metadata": {},
     "output_type": "execute_result"
    }
   ],
   "source": [
    "squared = map(lambda x: x**2, items)\n",
    "squared"
   ]
  },
  {
   "cell_type": "markdown",
   "metadata": {},
   "source": [
    "위 결과를 보면 우리가 원하는 값 대신 map 객체에 대한 주소값이 나옵니다.  <br>\n",
    "즉 이것은 map이 만든 iterator의 주소입니다.  <br>\n",
    "iterator인 것은 어떻게 알 수 있을까요? dir()을 써보면 됩니다."
   ]
  },
  {
   "cell_type": "code",
   "execution_count": 4,
   "metadata": {},
   "outputs": [
    {
     "name": "stdout",
     "output_type": "stream",
     "text": [
      "['__class__', '__delattr__', '__dir__', '__doc__', '__eq__', '__format__', '__ge__', '__getattribute__', '__gt__', '__hash__', '__init__', '__init_subclass__', '__iter__', '__le__', '__lt__', '__ne__', '__new__', '__next__', '__reduce__', '__reduce_ex__', '__repr__', '__setattr__', '__sizeof__', '__str__', '__subclasshook__']\n"
     ]
    }
   ],
   "source": [
    "print(dir(squared))"
   ]
  },
  {
   "cell_type": "markdown",
   "metadata": {},
   "source": [
    "메서드 중에 __next__ 가 있는 것을 볼 수 있습니다.  <br>\n",
    "따라서 map의 결과는 for와 연결하면 바로 사용이 가능합니다.  <br>\n",
    "그러나 전체 리스트의 내용을 반환하고 싶다면 위에서 쓴 것과 같이 list()를 사용해야 합니다.  <br>\n",
    "for 문을 써볼까요?"
   ]
  },
  {
   "cell_type": "code",
   "execution_count": 5,
   "metadata": {},
   "outputs": [
    {
     "name": "stdout",
     "output_type": "stream",
     "text": [
      "1, 4, 9, 16, 25, 36, "
     ]
    }
   ],
   "source": [
    "for i in map(lambda x: x**2, items): \n",
    "    print(i, end=', ')"
   ]
  },
  {
   "cell_type": "markdown",
   "metadata": {},
   "source": [
    "보는 것처럼 list를 쓰지 않아도 각각의 값을 잘 가져옵니다.\n",
    "\n",
    "위에서 살펴본 것처럼 map은 리스트 함축으로도 다 표현할 수 있습니다.  <br>\n",
    "그런데 왜 map을 쓰는 걸까요?  <br>\n",
    "map이 iterator를 생성하는 것에 힌트가 있습니다.  <br>\n",
    "아래 예를 보겠습니다."
   ]
  },
  {
   "cell_type": "code",
   "execution_count": 6,
   "metadata": {},
   "outputs": [
    {
     "name": "stdout",
     "output_type": "stream",
     "text": [
      "list comprehension: 1.9191761016845703\n",
      "map: 4.1961669921875e-05\n"
     ]
    }
   ],
   "source": [
    "import time\n",
    "\n",
    "start = time.time()\n",
    "result1 = [i**2 for i in range(10000000)]\n",
    "print('list comprehension:', time.time() - start)\n",
    "\n",
    "start = time.time()\n",
    "result2 = map(lambda i: i**2, range(10000000))\n",
    "print('map:', time.time() - start)"
   ]
  },
  {
   "cell_type": "markdown",
   "metadata": {},
   "source": [
    "시간을 재기 위해서 time 패키지를 사용했습니다. time 패키지의 사용법은 따로 다루겠습니다.  <br>\n",
    "여기서는 그냥 10,000,000개의 정수 값에 대한 처리속도를 비교했다고 이해하면 됩니다. <br>\n",
    "결과를 보는 것처럼 map은 iterator를 생성하기만 했기 때문에 시간이 전혀 걸리지 않았습니다.  <br>\n",
    "또한 메모리도 사용하지 않습니다.  <br>\n",
    "for 문을 사용할 때 비로소 i**2 연산이 이루어지지만, 여전히 전체 값(10,000,000개)에 대한 메모리는 사용되지 않습니다. <br>\n",
    "이제 map을 사용하는 것의 장점을 이해했으리라 생각됩니다. <br>\n",
    "### 2. filter\n",
    "filter는 리스트에서 특정 조건을 만족하는 값들만 추출할 때 사용합니다.  <br>\n",
    "좀 더 직접적으로 말하면, filter는 리스트의 요소들 중에서 어떤 함수의 적용결과가 True인 요소들만 모아 리스트로 반환하는 함수입니다.  <br>\n",
    "아래 예를 보겠습니다."
   ]
  },
  {
   "cell_type": "code",
   "execution_count": 7,
   "metadata": {},
   "outputs": [
    {
     "data": {
      "text/plain": [
       "[4, 5, 6]"
      ]
     },
     "execution_count": 7,
     "metadata": {},
     "output_type": "execute_result"
    }
   ],
   "source": [
    "items = [1, 2, 3, 4, 5, 6]\n",
    "list(filter(lambda x: x > 3, items))"
   ]
  },
  {
   "cell_type": "markdown",
   "metadata": {},
   "source": [
    "위 예에서 filter는 map과 마찬가지로 두개의 인수를 가집니다.  <br>\n",
    "동일하게, 첫째는 lambda를 이용한 무명함수이고 둘째는 그 위에서 선언된 리스트 items입니다.  <br>\n",
    "map과 달리 filter는 무명함수가 True 혹은 False만 반환한다는 것에 주목해야 합니다.  <br>\n",
    "위 무명함수를 보면, 주어진 x에 대해 3보다 큰 경우 True를 반환하는 것을 볼 수 있습니다.  <br>\n",
    "즉 이 문장이 하는 일은 a로부터 3보다 큰 값들만 가져와 새로운 리스트를 만드는 것입니다.  <br>\n",
    "이것도 리스트 함축으로 가능할까요? 물론입니다."
   ]
  },
  {
   "cell_type": "code",
   "execution_count": 8,
   "metadata": {},
   "outputs": [
    {
     "data": {
      "text/plain": [
       "[4, 5, 6]"
      ]
     },
     "execution_count": 8,
     "metadata": {},
     "output_type": "execute_result"
    }
   ],
   "source": [
    "[x for x in items if x > 3]"
   ]
  },
  {
   "cell_type": "markdown",
   "metadata": {},
   "source": [
    "위와 같이 if 문으로 조건을 주면 됩니다.  <br>\n",
    "즉 filter는 if 문이 있는 리스트 함축과 비슷한 일을 합니다.  <br>\n",
    "리스트 함축으로 되는데 굳이 filter를 쓰는 이유는 map과 같은 관점에서 보면 됩니다. <br>\n",
    "### 3. reduce\n",
    "reduce는 map, filter와 유사하지만 하는 일은 많이 다릅니다.  <br>\n",
    "map과 filter는 리스트의 요소 하나씩에 대해 함수가 수행되기 때문에 인수로 주어지는 함수의 입력값이 하나이지만,   <br>\n",
    "reduce는 특이하게도 함수의 입력값(인수)가 두개입니다.  <br>\n",
    "함수에 전달되는 인수는 맨 처음에는 대상이 되는 리스트의 첫 연속된 두 개의 요소이고,  <br>\n",
    "그 다음부터는 함수의 결과값과 리스트의 다음 값이 됩니다.  <br>\n",
    "아래 예를 보겠습니다."
   ]
  },
  {
   "cell_type": "code",
   "execution_count": 9,
   "metadata": {},
   "outputs": [
    {
     "name": "stdout",
     "output_type": "stream",
     "text": [
      "21\n"
     ]
    }
   ],
   "source": [
    "from functools import reduce # reduce는 내장함수였다가 어느 순간 functools로 옮겨졌습니다. 착오 없기 바랍니다.\n",
    "items = [1, 2, 3, 4, 5, 6]\n",
    "result = reduce((lambda x, y: x + y), items)\n",
    "print(result)"
   ]
  },
  {
   "cell_type": "markdown",
   "metadata": {},
   "source": [
    "위 예에서 reduce 안의 (lambda x, y: x + y)는 두 값을 받아서 더한 값을 반환합니다.  <br>\n",
    "처음 이 함수가 실행될 때 인수는 (1, 2)이고 결과는 3입니다.  <br>\n",
    "두번째 실행될 때 인수는 이 결과인 3과 리스트의 다음 값인 3입니다. 따라서 결과는 6이 됩니다.  <br>\n",
    "세번째 실행될 때 인수는 6과 다음 리스트 값인 4이고 따라서 10입니다.  <br>\n",
    "이런식으로 5와 6까지 더해지면 최종값은 21이 됩니다. 위 결과와 일치하는 것을 볼 수 있습니다.  <br>\n",
    "즉 위 reduce함수는 items의 값들을 다 더하고 있다는 것을 알 수 있습니다. <br>\n",
    "이것 외에 reduce와 map, filter의 다른 점 또 하나는 반환되는 것이 iterator가 아닌 하나의 값이라는 것입니다.  <br>\n",
    "앞에서 본 것처럼 map과 filter는 결과가 iterator이고 그 안에는 여러 개의 값들이 들어 있습니다.  <br>\n",
    "반면 reduce는 하나의 값입니다.  <br>\n",
    "이것은 reduce가 하는 일을 이해하면 자연스럽게 이해가 됩니다.  <br>\n",
    "따라서 reduce의 결과에는 list()를 쓸 필요가 없습니다. <br>\n",
    "이상을 잘 살펴보면 reduce는 map, filter와 달리 리스트 함축으로 대신할 수 없다는 것을 알 수 있습니다.  <br>\n",
    "결과가 리스트가 아니기 때문이죠. <br>\n",
    "위 내용을 reduce를 쓰지 않고 구현한다면 아래와 같이 쓸 수 있습니다.\n"
   ]
  },
  {
   "cell_type": "code",
   "execution_count": 10,
   "metadata": {},
   "outputs": [
    {
     "name": "stdout",
     "output_type": "stream",
     "text": [
      "21\n"
     ]
    }
   ],
   "source": [
    "result = 0\n",
    "for i in items:\n",
    "    result += i\n",
    "print(result)"
   ]
  },
  {
   "cell_type": "markdown",
   "metadata": {},
   "source": [
    "reduce 역시 함축을 위해 사용된다는 것을 알 수 있습니다."
   ]
  }
 ],
 "metadata": {
  "kernelspec": {
   "display_name": "Python 3 (ipykernel)",
   "language": "python",
   "name": "python3"
  },
  "language_info": {
   "codemirror_mode": {
    "name": "ipython",
    "version": 3
   },
   "file_extension": ".py",
   "mimetype": "text/x-python",
   "name": "python",
   "nbconvert_exporter": "python",
   "pygments_lexer": "ipython3",
   "version": "3.10.13"
  }
 },
 "nbformat": 4,
 "nbformat_minor": 4
}
