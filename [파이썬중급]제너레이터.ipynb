{
 "cells": [
  {
   "cell_type": "markdown",
   "metadata": {},
   "source": [
    "## [파이썬 중급] 제너레이터(Generators)\n",
    "제너레이터는 이터레이터의 한 종류라고 할 수 있으며 일반적으로 제너레이터 함수(generator function)에 의해 생성됩니다. <br>\n",
    "따라서 제너레이터를 이해하려면 먼저 이터레이터를 이해해야 합니다. <br>\n",
    "이터레이터는 [파이썬 중급] 이터러블(iterable)과 이터레이터(iterator)를 참고하기 바랍니다. <br>\n",
    "제너레이터 함수는 이터레이터를 생성하는 쉬운 방법이라고 할 수 있는데, <br>\n",
    "이 말은 이터레이터를 생성하는 더 어려운 방법도 있다는 뜻이므로 이에 관해서는 다음 기회에 다뤄보겠습니다.<br>\n",
    "제너레이터 함수를 이해하기 위해 아래의 아주 간단한 예를 보겠습니다."
   ]
  },
  {
   "cell_type": "code",
   "execution_count": 1,
   "metadata": {},
   "outputs": [],
   "source": [
    "def mygen():\n",
    "    yield 4\n",
    "    yield 5\n",
    "    yield 6"
   ]
  },
  {
   "cell_type": "markdown",
   "metadata": {},
   "source": [
    "위에서 보는 것처럼 제너레이터 함수는 return 대신 yield를 사용하여 값을 반환하도록 되어있습니다. <br>\n",
    "그런데 위 함수는 좀 이상합니다. <br>\n",
    "만일 yield 대신 return을 썼다면 첫 return 문에서 함수가 종료되기 때문에 <br>\n",
    "밑에 있는 return 5와 return 6은 절대로 실행될 일이 없는 쓸모 없는 코드가 됩니다. <br>\n",
    "그렇다면 제너레이터에서는 밑의 yield 5와 yield 6이 사용되는 것일까요?<br>\n",
    "이것을 알아보기 위해 mygen() 함수로 값을 반환받고 출력을 해보겠습니다."
   ]
  },
  {
   "cell_type": "code",
   "execution_count": 2,
   "metadata": {},
   "outputs": [
    {
     "name": "stdout",
     "output_type": "stream",
     "text": [
      "<generator object mygen at 0x1062787b0>\n"
     ]
    }
   ],
   "source": [
    "m = mygen()\n",
    "print(m)"
   ]
  },
  {
   "cell_type": "markdown",
   "metadata": {},
   "source": [
    "이상과 같이 출력하면 값 4가 출력되는 대신 m 객체의 주소가 출력됩니다. <br>\n",
    "즉 m은 값이 아니고 제터레이터 객체입니다. <br>\n",
    "따라서 제너레이터 함수가 반환하는 것은 값이 아니고 제너레이터 객체라는 것을 알 수 있습니다. <br>\n",
    "이 제너레이터 객체는 어떻게 사용할 수 있을까요? <br>\n",
    "제너레이터가 이터레이터의 한 종류라고 한 것을 기억한다면 이터레이터처럼 쓸 수 있을 것이라고 짐작할 수 있습니다."
   ]
  },
  {
   "cell_type": "code",
   "execution_count": 3,
   "metadata": {},
   "outputs": [
    {
     "name": "stdout",
     "output_type": "stream",
     "text": [
      "['__class__', '__del__', '__delattr__', '__dir__', '__doc__', '__eq__', '__format__', '__ge__', '__getattribute__', '__gt__', '__hash__', '__init__', '__init_subclass__', '__iter__', '__le__', '__lt__', '__name__', '__ne__', '__new__', '__next__', '__qualname__', '__reduce__', '__reduce_ex__', '__repr__', '__setattr__', '__sizeof__', '__str__', '__subclasshook__', 'close', 'gi_code', 'gi_frame', 'gi_running', 'gi_yieldfrom', 'send', 'throw']\n"
     ]
    }
   ],
   "source": [
    "print(dir(m))"
   ]
  },
  {
   "cell_type": "code",
   "execution_count": 4,
   "metadata": {},
   "outputs": [
    {
     "name": "stdout",
     "output_type": "stream",
     "text": [
      "4\n",
      "5\n",
      "6\n"
     ]
    },
    {
     "ename": "StopIteration",
     "evalue": "",
     "output_type": "error",
     "traceback": [
      "\u001b[0;31m---------------------------------------------------------------------------\u001b[0m",
      "\u001b[0;31mStopIteration\u001b[0m                             Traceback (most recent call last)",
      "Cell \u001b[0;32mIn[4], line 4\u001b[0m\n\u001b[1;32m      2\u001b[0m \u001b[38;5;28mprint\u001b[39m(\u001b[38;5;28mnext\u001b[39m(m))\n\u001b[1;32m      3\u001b[0m \u001b[38;5;28mprint\u001b[39m(\u001b[38;5;28mnext\u001b[39m(m))\n\u001b[0;32m----> 4\u001b[0m \u001b[38;5;28mprint\u001b[39m(\u001b[38;5;28;43mnext\u001b[39;49m\u001b[43m(\u001b[49m\u001b[43mm\u001b[49m\u001b[43m)\u001b[49m)\n",
      "\u001b[0;31mStopIteration\u001b[0m: "
     ]
    }
   ],
   "source": [
    "print(next(m))\n",
    "print(next(m))\n",
    "print(next(m))\n",
    "print(next(m))"
   ]
  },
  {
   "cell_type": "markdown",
   "metadata": {},
   "source": [
    "이터레이터와 동일하게 next를 이용해 값을 순서대로 가져올 수 있고, 다 가져오면 에러가 발생합니다. <br>\n",
    "그렇다면 for 문으로 사용할 수도 있다는 뜻이겠죠?"
   ]
  },
  {
   "cell_type": "code",
   "execution_count": 5,
   "metadata": {},
   "outputs": [
    {
     "name": "stdout",
     "output_type": "stream",
     "text": [
      "4\n",
      "5\n",
      "6\n"
     ]
    }
   ],
   "source": [
    "for i in mygen():\n",
    "    print(i)"
   ]
  },
  {
   "cell_type": "markdown",
   "metadata": {},
   "source": [
    "위의 결과를 보면, yield는 제너레이터가 next로 호출될 때마다 순서대로 실행된다는 사실을 알 수 있습니다. <br>\n",
    "즉 next가 처음 실행되면 첫 yield 문이, 두번째 실행되면 둘째 yield 문이 실행됩니다.<br>\n",
    "그럼 왜 제너레이터를 쓸까요? 중급답게 피보나치 수열을 예로 들어보겠습니다.<br>\n",
    "먼저 n개의 피보나치 수열을 리스트로 반환하는 함수를 짜봅시다."
   ]
  },
  {
   "cell_type": "code",
   "execution_count": 6,
   "metadata": {},
   "outputs": [
    {
     "data": {
      "text/plain": [
       "[0, 1, 1, 2, 3, 5, 8, 13, 21, 34]"
      ]
     },
     "execution_count": 6,
     "metadata": {},
     "output_type": "execute_result"
    }
   ],
   "source": [
    "def fibonacci_list(n):\n",
    "    result = [] #피보나치 수열을 담을 리스트\n",
    "    a,b = 0, 1 #피보나치 수열의 첫 두 값\n",
    "    i = 0 #생성된 개수를 세기 위해 사용\n",
    "    while i < n: #생성된 개수가 n보다 작은 동안\n",
    "        result.append(a) #리스트에 값을 추가\n",
    "        a, b = b, a + b #다음 수열로 이동, a = b, b = a + b의 축약\n",
    "        i += 1\n",
    "    return result\n",
    "\n",
    "fibonacci_list(10)"
   ]
  },
  {
   "cell_type": "markdown",
   "metadata": {},
   "source": [
    "이것을 제너레이터로 바꿔보겠습니다."
   ]
  },
  {
   "cell_type": "code",
   "execution_count": 7,
   "metadata": {},
   "outputs": [
    {
     "name": "stdout",
     "output_type": "stream",
     "text": [
      "0, 1, 1, 2, 3, 5, 8, 13, 21, 34, "
     ]
    }
   ],
   "source": [
    "def fibonacci_gen(n):\n",
    "    a,b = 0, 1\n",
    "    i = 0\n",
    "    while i < n:\n",
    "        yield a\n",
    "        a, b = b, a + b\n",
    "        i += 1\n",
    "\n",
    "f = fibonacci_gen(10)\n",
    "for i in f:\n",
    "    print(i, end=', ')"
   ]
  },
  {
   "cell_type": "markdown",
   "metadata": {},
   "source": [
    "result에 append하는 대신 yield를 썼습니다. <br>\n",
    "그렇게 해서 한번에 n개의 수열을 생성하는 대신 next로 호출될때마다 다음 값이 반환되도록 합니다. <br>\n",
    "잘 작동하는 것을 볼 수 있습니다. <br>\n",
    "위 예를 보면 이터레이터의 장점을 살리면서 보다 쉽게 이터레이터를 생성하기 위한 것이 제너레이터를 쓰는 목적임을 알 수 있습니다. <br>\n",
    "이터레이터의 장점은 첫째 메모리를 절약하는 것이고 <br>\n",
    "둘째 그 값이 필요하기 전까지 연산을 미뤄둘 수 있어서 처음 생성할 때 많은 시간이 소요되지 않습니다. <br>\n",
    "이에 대한 상세한 내용은 [파이썬 기초] map, filter, reduce에서 map 부분을 참조하기 바랍니다.\n",
    "\n",
    "제너레이터 표현식(generator expressions)는 리스트 함축과 같은 형식을 이용하여 제너레이터 함수를 더 쉽게 사용할 수 있도록 하는 도구입니다. <br>리스트 함축에서는 시작과 끝을 '[', ']'로 표기하는 대신 제너레이터 표현식에서는 tuple처럼 '(', ')'를 사용합니다.<br>\n",
    "다음 예를 보겠습니다."
   ]
  },
  {
   "cell_type": "code",
   "execution_count": 8,
   "metadata": {},
   "outputs": [
    {
     "name": "stdout",
     "output_type": "stream",
     "text": [
      "0, 1, 4, 9, 16, "
     ]
    }
   ],
   "source": [
    "mygen = (x*x for x in range(5))\n",
    "for i in mygen:\n",
    "    print(i, end=', ')"
   ]
  },
  {
   "cell_type": "markdown",
   "metadata": {},
   "source": [
    "위 예를 보면 제너레이터 함수를 호출할 자리에 제너레이터 표현식이 있는 것을 볼 수 있습니다. <br>\n",
    "마치 무명함수(Lambda)를 이용하여 이름이 없는 함수를 만들듯이, <br>\n",
    "제너레이터 표현식은 이름이 없는 제너레이터 함수를 만든다고 할 수 있습니다. <br>\n",
    "즉, 반복적으로 사용하지 않는 간단한 제너레이터를 쓰는 경우 이상과 같이 쉽게 사용하는 것이 가능합니다."
   ]
  },
  {
   "cell_type": "markdown",
   "metadata": {},
   "source": [
    "## 제너레이터의 개념적 이해\n",
    "위에 설명되어 있는 제너레이터는 이터레이터 못지 않게 이해가 어렵습니다. <br>\n",
    "제너레이터는 이터레이터를 생성하는 방법 중 하나입니다.  <br>\n",
    "다시 대기표 예로 돌아가 봅시다.  <br>\n",
    "하루에 최대 손님이 1,000명 온다고 가정해봅시다.  <br>\n",
    "그럼 매일 1,000명의 대기표를 미리 만들어 놓아야 할까요?  <br>\n",
    "은행에 가보면 알겠지만 그렇지 않습니다.  <br>\n",
    "그냥 다음 사람이 오면 대기표를 그때그때 인쇄해서 줍니다.  <br>\n",
    "즉 규칙 - 현재 번호에서 1을 더한 다음 그 번호로 대기표 생성 - 만 있으면 되지,  <br>\n",
    "굳이 1,000장을 미리 출력해 놓을 필요는 없습니다.  <br>\n",
    "제너레이터는 바로 이런 일을 한다고 생각하면 됩니다.  <br>\n",
    "즉 제너레이터는 은행에 있는 대기표가 튀어나오는 발급기라고 생각을 하면 쉽습니다."
   ]
  }
 ],
 "metadata": {
  "kernelspec": {
   "display_name": "Python 3 (ipykernel)",
   "language": "python",
   "name": "python3"
  },
  "language_info": {
   "codemirror_mode": {
    "name": "ipython",
    "version": 3
   },
   "file_extension": ".py",
   "mimetype": "text/x-python",
   "name": "python",
   "nbconvert_exporter": "python",
   "pygments_lexer": "ipython3",
   "version": "3.10.13"
  }
 },
 "nbformat": 4,
 "nbformat_minor": 4
}
