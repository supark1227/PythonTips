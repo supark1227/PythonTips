{
 "cells": [
  {
   "cell_type": "markdown",
   "metadata": {},
   "source": [
    "## [파이썬중급]불용어(stopwords)와 filter를 이용한 구현\n",
    "\n",
    "불용어(stopwords)는 텍스트 분석에서 필요가 없는 단어들을 말합니다.  <br>\n",
    "예를 들어 a나 the와 같은 관사는 문법을 지키기 위해 사용되지만 굳이 분석을 위해 필요하지는 않습니다.  <br>\n",
    "이와 같은 불용어들은 분석대상이 되는 문장에서 삭제를 하게 됩니다. <br>\n",
    "텍스트에서 단어들을 분리해내는 작업(tokenize)에 대해서는 아래 글에서 다룬 적이 있습니다.\n",
    "\n",
    "[파이썬 기초] 텍스트를 다루는 데 유용한 함수들 <br>\n",
    "[파이썬 기초] 화이트스페이스와 split(), strip()\n",
    "\n",
    "이 글에서는 소설 '위대한 개츠비'의 마지막 문장인 아래 텍스트로부터 단어들을 분리해보겠습니다."
   ]
  },
  {
   "cell_type": "code",
   "execution_count": 1,
   "metadata": {},
   "outputs": [],
   "source": [
    "sentence = '''Gatsby believed in the green light,\n",
    "the orgastic future that year by year recedes before us.\n",
    "It eluded us then, but that's no matter-\n",
    "tomorrow we will run faster, stretch out our arms farther......\n",
    "And one fine morning- So we beat on, boats against the current,\n",
    "borne back ceaselessly into the past.'''"
   ]
  },
  {
   "cell_type": "markdown",
   "metadata": {},
   "source": [
    "분리를 위한 코드는 [파이썬 기초] 화이트스페이스와 split(), strip()에서 가져다 쓰겠습니다."
   ]
  },
  {
   "cell_type": "code",
   "execution_count": 2,
   "metadata": {},
   "outputs": [
    {
     "name": "stdout",
     "output_type": "stream",
     "text": [
      "['gatsby', 'believed', 'in', 'the', 'green', 'light', 'the', 'orgastic', 'future', 'that', 'year', 'by', 'year', 'recedes', 'before', 'us', 'it', 'eluded', 'us', 'then', 'but', \"that's\", 'no', 'matter', 'tomorrow', 'we', 'will', 'run', 'faster', 'stretch', 'out', 'our', 'arms', 'farther', 'and', 'one', 'fine', 'morning', 'so', 'we', 'beat', 'on', 'boats', 'against', 'the', 'current', 'borne', 'back', 'ceaselessly', 'into', 'the', 'past']\n"
     ]
    }
   ],
   "source": [
    "words = [word.strip('.,-') for word in sentence.lower().split()]\n",
    "print(words)"
   ]
  },
  {
   "cell_type": "markdown",
   "metadata": {},
   "source": [
    "위 단어들 중에서 in, the, by, on, it이 별로 쓸모없다고 판단되어 삭제해야 한다고 합시다.  <br>\n",
    "참고로 모든 텍스트 분석에서 공통적으로 사용하는 stopwords 리스트는 없습니다.  <br>\n",
    "분석의 목적에 따라 불용어가 다르기 때문입니다.  <br>\n",
    "어떤 경우에는 구문(phrase)을 다루거나 검색하기 위해 불용어를 아예 쓰지 않는 경우도 있습니다.  <br>\n",
    "즉 각 분석에서 의도에 맞게 불용어를 정의하고 사용한다고 보면 됩니다. <br>\n",
    "먼저 불용어 리스트를 만들고 아래와 같이 리스트 함축(list comprehension)을 이용하여 불용어를 제거할 수 있습니다."
   ]
  },
  {
   "cell_type": "code",
   "execution_count": 3,
   "metadata": {},
   "outputs": [
    {
     "name": "stdout",
     "output_type": "stream",
     "text": [
      "['gatsby', 'believed', 'green', 'light', 'orgastic', 'future', 'that', 'year', 'year', 'recedes', 'before', 'us', 'eluded', 'us', 'then', 'but', \"that's\", 'no', 'matter', 'tomorrow', 'we', 'will', 'run', 'faster', 'stretch', 'out', 'our', 'arms', 'farther', 'and', 'one', 'fine', 'morning', 'so', 'we', 'beat', 'boats', 'against', 'current', 'borne', 'back', 'ceaselessly', 'into', 'past']\n"
     ]
    }
   ],
   "source": [
    "stopwords = ['in', 'the', 'by', 'on', 'it']\n",
    "words = [word for word in words if word not in stopwords]\n",
    "print(words)"
   ]
  },
  {
   "cell_type": "markdown",
   "metadata": {},
   "source": [
    "리스트 함축에 대해 배웠다면 위 코드를 어렵지 않게 이해할 수 있습니다.  <br>\n",
    "words 중에서 not in 을 이용해 stopwords에 없는 단어들만 추출했습니다.\n",
    "\n",
    "이제 filter에 대해 배워보겠습니다.  <br>\n",
    "filter는 리스트의 요소들 중에서 함수의 적용결과가 True인 요소들만 모아 리스트로 반환하는 함수입니다.  <br>\n",
    "아래 예를 보겠습니다."
   ]
  },
  {
   "cell_type": "code",
   "execution_count": 4,
   "metadata": {},
   "outputs": [
    {
     "data": {
      "text/plain": [
       "[4, 5]"
      ]
     },
     "execution_count": 4,
     "metadata": {},
     "output_type": "execute_result"
    }
   ],
   "source": [
    "a = [1, 2, 3, 4, 5]\n",
    "list(filter(lambda x: x > 3, a))"
   ]
  },
  {
   "cell_type": "markdown",
   "metadata": {},
   "source": [
    "위 예에서 filter는 두개의 인수를 가집니다.  <br>\n",
    "첫째는 lambda를 이용한 무명함수이고 둘째는 그 위에서 선언된 리스트 a입니다.  <br>\n",
    "무명함수를 보면, 주어진 x에 대해 3보다 큰 경우 True를 반환하는 것을 볼 수 있습니다.  <br>\n",
    "즉 이 문장이 하는 일은 a로부터 3보다 큰 값들만 가져와 새로운 리스트를 만드는 것입니다.  <br>\n",
    "그런데 list()는 왜 쓰인 걸까요?  <br>\n",
    "filter는 정확하게 말해서 리스트를 반환하는 것이 아니고 이터레이터(iterator)를 반환합니다.  <br>\n",
    "iterator는  [파이썬 중급] 이터러블(iterable)과 이터레이터(iterator)에서 설명했습니다.  <br>\n",
    "확인해볼까요?"
   ]
  },
  {
   "cell_type": "code",
   "execution_count": 5,
   "metadata": {},
   "outputs": [
    {
     "name": "stdout",
     "output_type": "stream",
     "text": [
      "['__class__', '__delattr__', '__dir__', '__doc__', '__eq__', '__format__', '__ge__', '__getattribute__', '__gt__', '__hash__', '__init__', '__init_subclass__', '__iter__', '__le__', '__lt__', '__ne__', '__new__', '__next__', '__reduce__', '__reduce_ex__', '__repr__', '__setattr__', '__sizeof__', '__str__', '__subclasshook__']\n"
     ]
    }
   ],
   "source": [
    "print(dir(filter(lambda x: x > 3, a)))"
   ]
  },
  {
   "cell_type": "markdown",
   "metadata": {},
   "source": [
    "메서드 중에 __next__ 가 있는 것을 볼 수 있습니다. <br>\n",
    "즉 filter의 결과는 for와 연결하면 바로 사용이 가능합니다.  <br>\n",
    "그러나 전체 리스트의 내용을 반환하고 싶다면 위에서 쓴 것과 같이 list()를 사용해야 합니다.\n",
    "\n",
    "이제 filter를 stopwords 제거에 사용해보겠습니다."
   ]
  },
  {
   "cell_type": "code",
   "execution_count": 6,
   "metadata": {},
   "outputs": [
    {
     "name": "stdout",
     "output_type": "stream",
     "text": [
      "['gatsby', 'believed', 'green', 'light', 'orgastic', 'future', 'that', 'year', 'year', 'recedes', 'before', 'us', 'eluded', 'us', 'then', 'but', \"that's\", 'no', 'matter', 'tomorrow', 'we', 'will', 'run', 'faster', 'stretch', 'out', 'our', 'arms', 'farther', 'and', 'one', 'fine', 'morning', 'so', 'we', 'beat', 'boats', 'against', 'current', 'borne', 'back', 'ceaselessly', 'into', 'past']\n"
     ]
    }
   ],
   "source": [
    "words = list(filter(lambda x: x not in stopwords, words))\n",
    "print(words)"
   ]
  },
  {
   "cell_type": "markdown",
   "metadata": {},
   "source": [
    "lambda x: x not in stopwords 는 주어진 x에 대해 stopwords에 포함되지 않는 경우 True를 반환합니다. <br>\n",
    "위에서 리스트 함축을 이용한 것과 동일한 결과가 나오는 것을 볼 수 있습니다."
   ]
  }
 ],
 "metadata": {
  "kernelspec": {
   "display_name": "Python 3 (ipykernel)",
   "language": "python",
   "name": "python3"
  },
  "language_info": {
   "codemirror_mode": {
    "name": "ipython",
    "version": 3
   },
   "file_extension": ".py",
   "mimetype": "text/x-python",
   "name": "python",
   "nbconvert_exporter": "python",
   "pygments_lexer": "ipython3",
   "version": "3.10.13"
  }
 },
 "nbformat": 4,
 "nbformat_minor": 4
}
